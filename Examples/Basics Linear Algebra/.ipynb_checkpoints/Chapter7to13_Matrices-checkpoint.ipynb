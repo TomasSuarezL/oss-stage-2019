{
 "cells": [
  {
   "cell_type": "markdown",
   "metadata": {},
   "source": [
    "### Chapters 7 to 13: Matrices"
   ]
  },
  {
   "cell_type": "markdown",
   "metadata": {},
   "source": [
    "#### Chapter 7: Vectors and Vector Arithmetic\n",
    "A vector is a tuple of one or more values called scalars.\n",
    "\n",
    "$ v = (v_1, v_2, v_3)  \\space or  v =  {\\begin{pmatrix}\n",
    "   v_1 \\\\\n",
    "   v_2 \\\\\n",
    "   v_3 \\\\    \n",
    " \\end{pmatrix} } $\n",
    "\n",
    "\n"
   ]
  },
  {
   "cell_type": "code",
   "execution_count": null,
   "metadata": {},
   "outputs": [],
   "source": []
  }
 ],
 "metadata": {
  "kernelspec": {
   "display_name": "Python 3",
   "language": "python",
   "name": "python3"
  },
  "language_info": {
   "codemirror_mode": {
    "name": "ipython",
    "version": 3
   },
   "file_extension": ".py",
   "mimetype": "text/x-python",
   "name": "python",
   "nbconvert_exporter": "python",
   "pygments_lexer": "ipython3",
   "version": "3.7.4"
  }
 },
 "nbformat": 4,
 "nbformat_minor": 4
}
