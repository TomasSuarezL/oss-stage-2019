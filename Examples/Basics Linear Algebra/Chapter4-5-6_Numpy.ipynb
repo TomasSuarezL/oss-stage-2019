{
 "cells": [
  {
   "cell_type": "markdown",
   "metadata": {},
   "source": [
    "### Chapter 4/5/6 - Numpy"
   ]
  },
  {
   "cell_type": "code",
   "execution_count": 1,
   "metadata": {},
   "outputs": [
    {
     "name": "stdout",
     "output_type": "stream",
     "text": [
      "[1. 2. 3.]\n",
      "(3,)\n",
      "float64\n"
     ]
    }
   ],
   "source": [
    "## Arrays\n",
    "from numpy import array\n",
    "\n",
    "# create array\n",
    "l = [1.0, 2.0, 3.0]\n",
    "a = array(l)\n",
    "# display array\n",
    "print(a)\n",
    "# display array shape\n",
    "print(a.shape)\n",
    "# display array data type\n",
    "print(a.dtype)"
   ]
  },
  {
   "cell_type": "code",
   "execution_count": 4,
   "metadata": {},
   "outputs": [
    {
     "name": "stdout",
     "output_type": "stream",
     "text": [
      "[[0.00000000e+000 0.00000000e+000 0.00000000e+000]\n",
      " [0.00000000e+000 0.00000000e+000 6.10665138e-321]\n",
      " [6.01346930e-154 2.59338541e+161 4.41622067e+257]]\n",
      "[[0. 0. 0. 0. 0.]\n",
      " [0. 0. 0. 0. 0.]\n",
      " [0. 0. 0. 0. 0.]]\n",
      "[1. 1. 1. 1. 1.]\n"
     ]
    }
   ],
   "source": [
    "# Functions to create arrays\n",
    "\n",
    "# Empty\n",
    "from numpy import empty\n",
    "a = empty([3,3])\n",
    "print(a)\n",
    "\n",
    "# Zeros\n",
    "from numpy import zeros\n",
    "a = zeros([3,5])\n",
    "print(a)\n",
    "\n",
    "# Ones\n",
    "from numpy import ones\n",
    "a = ones([5])\n",
    "print(a)"
   ]
  },
  {
   "cell_type": "code",
   "execution_count": 6,
   "metadata": {},
   "outputs": [
    {
     "name": "stdout",
     "output_type": "stream",
     "text": [
      "[1 2 3]\n",
      "[4 5 6]\n",
      "[[1 2 3]\n",
      " [4 5 6]]\n",
      "(2, 3)\n",
      "[1 2 3 4 5 6]\n",
      "(6,)\n"
     ]
    }
   ],
   "source": [
    "# Combine arrays\n",
    "# create first array\n",
    "a1 = array([1,2,3])\n",
    "print(a1)\n",
    "# create second array\n",
    "a2 = array([4,5,6])\n",
    "print(a2)\n",
    "\n",
    "# create array with vstack\n",
    "from numpy import vstack\n",
    "# vertical stack\n",
    "a3 = vstack((a1, a2))\n",
    "print(a3)\n",
    "print(a3.shape)\n",
    "\n",
    "# create array with hstack\n",
    "from numpy import hstack\n",
    "# create horizontal stack\n",
    "a3 = hstack((a1, a2))\n",
    "print(a3)\n",
    "print(a3.shape)"
   ]
  },
  {
   "cell_type": "code",
   "execution_count": 8,
   "metadata": {},
   "outputs": [
    {
     "name": "stdout",
     "output_type": "stream",
     "text": [
      "[11 22 33 44 55]\n",
      "<class 'numpy.ndarray'>\n",
      "[[11 22]\n",
      " [33 44]\n",
      " [55 66]]\n",
      "<class 'numpy.ndarray'>\n"
     ]
    }
   ],
   "source": [
    "# From list to arrays\n",
    "\n",
    "# create one-dimensional array\n",
    "# list of data\n",
    "data = [11, 22, 33, 44, 55]\n",
    "# array of data\n",
    "data = array(data)\n",
    "print(data)\n",
    "print(type(data))\n",
    "\n",
    "# create two-dimensional array\n",
    "from numpy import array\n",
    "# list of data\n",
    "data = [[11, 22],\n",
    "[33, 44],\n",
    "[55, 66]]\n",
    "# array of data\n",
    "data = array(data)\n",
    "print(data)\n",
    "print(type(data))"
   ]
  },
  {
   "cell_type": "code",
   "execution_count": 11,
   "metadata": {},
   "outputs": [
    {
     "name": "stdout",
     "output_type": "stream",
     "text": [
      "11\n",
      "55\n",
      "55\n",
      "11\n",
      "11\n",
      "[11 22]\n"
     ]
    }
   ],
   "source": [
    "# Array indexing\n",
    "# define array\n",
    "data = array([11, 22, 33, 44, 55])\n",
    "# index a one-dimensional array\n",
    "# index data\n",
    "print(data[0])\n",
    "print(data[4])\n",
    "# Specifying integers too large for the bound of the array will cause an error.\n",
    "# EX: print(data[5])\n",
    "# negative array indexing\n",
    "print(data[-1])\n",
    "print(data[-5])\n",
    "\n",
    "# index two-dimensional array\n",
    "# define array\n",
    "data = array([\n",
    "[11, 22],\n",
    "[33, 44],\n",
    "[55, 66]])\n",
    "# index data\n",
    "print(data[0,0])\n",
    "# If we are interested in all items in the \f",
    "rst row, we could leave the second dimension index empty\n",
    "print(data[0,])"
   ]
  },
  {
   "cell_type": "code",
   "execution_count": 13,
   "metadata": {},
   "outputs": [
    {
     "name": "stdout",
     "output_type": "stream",
     "text": [
      "[11 22 33 44 55]\n",
      "[11]\n",
      "[44 55]\n",
      "[[11 22]\n",
      " [44 55]\n",
      " [77 88]]\n",
      "[33 66 99]\n",
      "[[11 22 33]\n",
      " [44 55 66]]\n",
      "[[77 88 99]]\n"
     ]
    }
   ],
   "source": [
    "# Array Slicing\n",
    "# define array\n",
    "data = array([11, 22, 33, 44, 55])\n",
    "\n",
    "# slice a one-dimensional array\n",
    "print(data[:])\n",
    "# slice a subset of a one-dimensional array\n",
    "print(data[0:1])\n",
    "# negative slicing of a one-dimensional array\n",
    "print(data[-2:])\n",
    "\n",
    "# slice a two-dimensional array\n",
    "# define array\n",
    "data = array([\n",
    "[11, 22, 33],\n",
    "[44, 55, 66],\n",
    "[77, 88, 99]])\n",
    "# split input and output data\n",
    "# separate data by column\n",
    "X, y = data[:, :-1], data[:, -1]\n",
    "print(X)\n",
    "print(y)\n",
    "\n",
    "# split train and test data\n",
    "# separate data by row\n",
    "split = 2\n",
    "train,test = data[:split,:],data[split:,:]\n",
    "print(train)\n",
    "print(test)"
   ]
  },
  {
   "cell_type": "code",
   "execution_count": 20,
   "metadata": {},
   "outputs": [
    {
     "name": "stdout",
     "output_type": "stream",
     "text": [
      "(5,)\n",
      "(rows,cols) = (3, 2)\n",
      "(5, 1)\n",
      "(3, 2, 1)\n"
     ]
    }
   ],
   "source": [
    "# Array reshaping\n",
    "# define array\n",
    "data1d = array([11, 22, 33, 44, 55])\n",
    "# shape of one-dimensional array\n",
    "print(data1d.shape)\n",
    "\n",
    "# shape of a two-dimensional array\n",
    "# list of data\n",
    "data2d = [[11, 22],\n",
    "[33, 44],\n",
    "[55, 66]]\n",
    "# array of data\n",
    "data2d = array(data2d)\n",
    "print(f\"(rows,cols) = {data2d.shape}\")\n",
    "\n",
    "# reshape 1D array to 2D\n",
    "# reshape\n",
    "data = data1d.reshape((data1d.shape[0], 1))\n",
    "print(data.shape) \n",
    "\n",
    "# reshape 2D array to 3D\n",
    "# reshape\n",
    "data = data2d.reshape((data2d.shape[0], data2d.shape[1], 1))\n",
    "print(data.shape)\n"
   ]
  },
  {
   "cell_type": "code",
   "execution_count": 24,
   "metadata": {},
   "outputs": [
    {
     "name": "stdout",
     "output_type": "stream",
     "text": [
      "[1 2 3]\n",
      "[[1 2 3]\n",
      " [1 2 3]]\n",
      "2\n",
      "[3 4 5]\n",
      "[[3 4 5]\n",
      " [3 4 5]]\n",
      "[[2 4 6]\n",
      " [2 4 6]]\n"
     ]
    },
    {
     "ename": "ValueError",
     "evalue": "operands could not be broadcast together with shapes (2,3) (2,) ",
     "output_type": "error",
     "traceback": [
      "\u001b[1;31m---------------------------------------------------------------------------\u001b[0m",
      "\u001b[1;31mValueError\u001b[0m                                Traceback (most recent call last)",
      "\u001b[1;32m<ipython-input-24-abb92190b661>\u001b[0m in \u001b[0;36m<module>\u001b[1;34m\u001b[0m\n\u001b[0;32m     27\u001b[0m \u001b[1;31m# broadcasting error\u001b[0m\u001b[1;33m\u001b[0m\u001b[1;33m\u001b[0m\u001b[1;33m\u001b[0m\u001b[0m\n\u001b[0;32m     28\u001b[0m \u001b[0mb\u001b[0m \u001b[1;33m=\u001b[0m \u001b[0marray\u001b[0m\u001b[1;33m(\u001b[0m\u001b[1;33m[\u001b[0m\u001b[1;36m1\u001b[0m\u001b[1;33m,\u001b[0m \u001b[1;36m2\u001b[0m\u001b[1;33m]\u001b[0m\u001b[1;33m)\u001b[0m\u001b[1;33m\u001b[0m\u001b[1;33m\u001b[0m\u001b[0m\n\u001b[1;32m---> 29\u001b[1;33m \u001b[0mC\u001b[0m \u001b[1;33m=\u001b[0m \u001b[0mA\u001b[0m \u001b[1;33m+\u001b[0m \u001b[0mb\u001b[0m\u001b[1;33m\u001b[0m\u001b[1;33m\u001b[0m\u001b[0m\n\u001b[0m\u001b[0;32m     30\u001b[0m \u001b[0mprint\u001b[0m\u001b[1;33m(\u001b[0m\u001b[0mC\u001b[0m\u001b[1;33m)\u001b[0m\u001b[1;33m\u001b[0m\u001b[1;33m\u001b[0m\u001b[0m\n",
      "\u001b[1;31mValueError\u001b[0m: operands could not be broadcast together with shapes (2,3) (2,) "
     ]
    }
   ],
   "source": [
    "# Chapter 6 - Array Broadcasting\n",
    "# Broadcasting is the name given to the method that NumPy uses to allow array arithmetic between arrays with a different shape or size.\n",
    "from numpy import array\n",
    "# define array\n",
    "a = array([1, 2, 3])\n",
    "print(a)\n",
    "# define matrix\n",
    "A = array([ [1, 2, 3],\n",
    "            [1, 2, 3]])\n",
    "print(A)\n",
    "# define scalar\n",
    "b = 2\n",
    "print(b)\n",
    "\n",
    "# broadcast scalar to one-dimensional array\n",
    "c = a + b\n",
    "print(c)\n",
    "\n",
    "# broadcast scalar to two-dimensional array\n",
    "C = A + b\n",
    "print(C)\n",
    "\n",
    "# broadcast one-dimensional array to two-dimensional array\n",
    "C = A + a\n",
    "print(C)\n",
    "\n",
    "# broadcasting error\n",
    "b = array([1, 2])\n",
    "C = A + b\n",
    "print(C)"
   ]
  },
  {
   "cell_type": "code",
   "execution_count": null,
   "metadata": {},
   "outputs": [],
   "source": []
  }
 ],
 "metadata": {
  "kernelspec": {
   "display_name": "Python 3",
   "language": "python",
   "name": "python3"
  },
  "language_info": {
   "codemirror_mode": {
    "name": "ipython",
    "version": 3
   },
   "file_extension": ".py",
   "mimetype": "text/x-python",
   "name": "python",
   "nbconvert_exporter": "python",
   "pygments_lexer": "ipython3",
   "version": "3.7.5"
  }
 },
 "nbformat": 4,
 "nbformat_minor": 4
}
