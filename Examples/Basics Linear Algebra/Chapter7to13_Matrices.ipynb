{
 "cells": [
  {
   "cell_type": "markdown",
   "metadata": {},
   "source": [
    "### Chapters 7 to 13: Matrices"
   ]
  },
  {
   "cell_type": "markdown",
   "metadata": {},
   "source": [
    "#### Chapter 7: Vectors and Vector Arithmetic\n",
    "A vector is a tuple of one or more values called scalars.\n",
    "\n",
    "$ v = (v_1, v_2, v_3) \\quad or \\quad  v =  {\\begin{pmatrix}\n",
    "   v_1 \\\\\n",
    "   v_2 \\\\\n",
    "   v_3 \\\\    \n",
    " \\end{pmatrix} } $\n",
    "\n",
    "\n"
   ]
  },
  {
   "cell_type": "code",
   "execution_count": 7,
   "metadata": {},
   "outputs": [
    {
     "name": "stdout",
     "output_type": "stream",
     "text": [
      "[1 2 3]\n",
      "[1 2 3]\n",
      "[2 4 6]\n",
      "[0 0 0]\n",
      "[1 4 9]\n",
      "[1. 1. 1.]\n",
      "14\n",
      "[0.5 1.  1.5]\n"
     ]
    }
   ],
   "source": [
    "# Defining a Vector\n",
    "from numpy import array\n",
    "\n",
    "# create a vector\n",
    "v = array([1, 2, 3])\n",
    "print(v)\n",
    "# define first vector\n",
    "a = array([1, 2, 3])\n",
    "print(a)\n",
    "\n",
    "# Vector arithmetic\n",
    "\n",
    "# vector addition\n",
    "c = a + v\n",
    "print(c)\n",
    "\n",
    "# vector subtraction\n",
    "c = a - v\n",
    "print(c)\n",
    "\n",
    "# vector multiplication\n",
    "c = a * v\n",
    "print(c)\n",
    "\n",
    "# vector division\n",
    "c = a / v\n",
    "print(c)\n",
    "\n",
    "# vector dot product\n",
    "c = a.dot(v)\n",
    "print(c)\n",
    "\n",
    "# vector-scalar multiplication\n",
    "s = 0.5\n",
    "c = s * a\n",
    "print(c)\n"
   ]
  },
  {
   "cell_type": "markdown",
   "metadata": {},
   "source": [
    "#### Chapter 8: Vector Norms\n",
    "The length of a vector is a nonnegative number that describes the extent of the\n",
    "vector in space, and is sometimes referred to as the vector's magnitude or the norm.\n",
    "\n",
    "- $L^1$ Norm\n",
    "\n",
    "    $L^1(v) \\quad = \\quad \\lVert v \\rVert_1 \\quad = \\quad |a_1| + |a_2| + ... + |a_n| $\n",
    "\n",
    "- $L^2$ Norm\n",
    "\n",
    "    $L^2(v) \\quad = \\quad \\lVert v \\rVert_2 \\quad = \\quad \\sqrt{a_1^2 + a_2^2 + ... + a_n^2} $\n",
    "    \n",
    "- $L^{inf}$ Norm\n",
    "\n",
    "    $L^{inf}(v) \\quad = \\quad \\lVert v \\rVert_{inf} = $ max $a_1,a_2,a_3$\n",
    "    \n",
    "By far, the L2 norm is more commonly used than other vector norms in machine learning."
   ]
  },
  {
   "cell_type": "code",
   "execution_count": 17,
   "metadata": {},
   "outputs": [
    {
     "name": "stdout",
     "output_type": "stream",
     "text": [
      "[1 2 3]\n",
      "6.0\n",
      "3.7416573867739413\n",
      "3.0\n"
     ]
    }
   ],
   "source": [
    "# vector norms\n",
    "from numpy import array\n",
    "from numpy.linalg import norm\n",
    "# define vector\n",
    "a = array([1, 2, 3])\n",
    "print(a)\n",
    "# calculate L1 norm\n",
    "l1 = norm(a, 1)\n",
    "print(l1)\n",
    "\n",
    "# calculate L2 norm\n",
    "l2 = norm(a)\n",
    "print(l2)\n",
    "\n",
    "# calculate vector max norm\n",
    "from math import inf\n",
    "maxnorm = norm(a, inf)\n",
    "print(maxnorm)\n"
   ]
  },
  {
   "cell_type": "markdown",
   "metadata": {},
   "source": [
    "#### Chapter 9: Matrices and Matrix Arithmetic"
   ]
  },
  {
   "cell_type": "code",
   "execution_count": null,
   "metadata": {},
   "outputs": [],
   "source": []
  },
  {
   "cell_type": "code",
   "execution_count": null,
   "metadata": {},
   "outputs": [],
   "source": []
  }
 ],
 "metadata": {
  "kernelspec": {
   "display_name": "Python 3",
   "language": "python",
   "name": "python3"
  },
  "language_info": {
   "codemirror_mode": {
    "name": "ipython",
    "version": 3
   },
   "file_extension": ".py",
   "mimetype": "text/x-python",
   "name": "python",
   "nbconvert_exporter": "python",
   "pygments_lexer": "ipython3",
   "version": "3.7.4"
  }
 },
 "nbformat": 4,
 "nbformat_minor": 4
}
