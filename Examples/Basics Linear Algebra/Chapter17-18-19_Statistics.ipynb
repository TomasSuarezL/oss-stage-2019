{
 "cells": [
  {
   "cell_type": "markdown",
   "metadata": {},
   "source": [
    "### Part VI: Chapters 17, 18, 19 \n",
    "\n",
    "#### Chapter 17: Introduction to Multivariate Statistics\n",
    "\n",
    "- Expected Value and Mean:\n",
    "\n",
    "    Expected Value:   $ E[X] = \\sum{x_1 \\times p1, x_2 \\times p_2, ... , x_n \\times p_n} $\n",
    "    \n",
    "    Mean: $\\mu = \\frac{1}{n} \\times \\sum{x_1,x_2,...,x_n} $\n",
    "    \n",
    "    $ \\bar{x} = \\frac{1}{n} \\times \\sum_{i=1}^n{xi}$\n",
    "    \n",
    "- Variance and Standard Deviation:\n",
    "\n",
    "    Variance: $Var[X] = E[(X - E[X])^2] = \\sum p(x_1) \\times (x_1 - E[X])^2, p(x_2) \\times (x_2 - E[X])^2, ... , p(x_n) \\times (x_n - E[X])^2$\n",
    "    \n",
    "    Sample variance: $ \\sigma^2 = \\frac{1}{n-1} \\times \\sum_{i=1}^{n} (x_i - \\mu)^2 $\n",
    "    \n",
    "    Standard deviation: $ s = \\sqrt{\\sigma^2} $\n",
    "    \n",
    "- Covariance and Correlation:\n",
    "\n",
    "    Covariance: $ cov(X,Y) = E[(X - E[X]) \\times (Y - E[Y])] = \\frac{1}{n} \\times \\sum (x - E[X]) \\times (y - E[Y])]$\n",
    "    \n",
    "    Correlation: $ r = \\frac{cov(X,Y)}{s_X \\times s_Y} $\n",
    "    \n",
    "- Covariance Matrix: square and symmetric matrix that describes the covariance between two or more random variables.\n",
    "\n",
    "    $ \\Sigma = E[(X - E[X]) \\times (Y - E[Y])] $\n",
    "    \n",
    "    where,\n",
    "    \n",
    "    $ \\Sigma_{i,j} = cov(X_i, X_j) $"
   ]
  },
  {
   "cell_type": "code",
   "execution_count": 8,
   "metadata": {},
   "outputs": [
    {
     "name": "stdout",
     "output_type": "stream",
     "text": [
      "[1 2 3 4 5 6]\n",
      "[[1 2 3 4 5 6]\n",
      " [1 2 3 4 5 6]]\n",
      "3.5\n",
      "[1. 2. 3. 4. 5. 6.]\n",
      "[3.5 3.5]\n",
      "3.5\n",
      "2.9166666666666665\n",
      "[0. 0. 0. 0. 0. 0.]\n",
      "[3.5 3.5]\n",
      "[0. 0. 0. 0. 0. 0.]\n",
      "[1.87082869 1.87082869]\n",
      "[1 2 3 4 5 6 7 8 9]\n",
      "[9 8 7 6 5 4 3 2 1]\n",
      "-7.5\n",
      "-1.0\n",
      "[[ 1  5  8]\n",
      " [ 3  5 11]\n",
      " [ 2  4  9]\n",
      " [ 3  6 10]\n",
      " [ 1  5 10]]\n",
      "[[1.   0.25 0.75]\n",
      " [0.25 0.5  0.25]\n",
      " [0.75 0.25 1.3 ]]\n"
     ]
    }
   ],
   "source": [
    "from numpy import array\n",
    "# define vector\n",
    "v = array([1,2,3,4,5,6])\n",
    "print(v)\n",
    "# define matrix\n",
    "M = array([\n",
    "[1,2,3,4,5,6],\n",
    "[1,2,3,4,5,6]])\n",
    "print(M)\n",
    "\n",
    "# vector mean\n",
    "from numpy import mean\n",
    "# calculate mean\n",
    "result = mean(v)\n",
    "print(result)\n",
    "\n",
    "# matrix means\n",
    "# column means\n",
    "col_mean = mean(M, axis=0)\n",
    "print(col_mean)\n",
    "# row means\n",
    "row_mean = mean(M, axis=1)\n",
    "print(row_mean)\n",
    "\n",
    "# vector variance\n",
    "from numpy import var\n",
    "# calculate variance\n",
    "result = var(v, ddof=1)\n",
    "print(result)\n",
    "result = var(v)\n",
    "print(result)\n",
    "\n",
    "# matrix variances\n",
    "# column variances\n",
    "col_var = var(M, ddof=1, axis=0)\n",
    "print(col_var)\n",
    "# row variances\n",
    "row_var = var(M, ddof=1, axis=1)\n",
    "print(row_var)\n",
    "\n",
    "# matrix standard deviation\n",
    "from numpy import std\n",
    "# column standard deviations\n",
    "col_std = std(M, ddof=1, axis=0)\n",
    "print(col_std)\n",
    "# row standard deviations\n",
    "row_std = std(M, ddof=1, axis=1)\n",
    "print(row_std)\n",
    "\n",
    "# vector covariance\n",
    "from numpy import cov\n",
    "# define first vector\n",
    "x = array([1,2,3,4,5,6,7,8,9])\n",
    "print(x)\n",
    "# define second covariance\n",
    "y = array([9,8,7,6,5,4,3,2,1])\n",
    "print(y)\n",
    "# calculate covariance\n",
    "Sigma = cov(x,y)[0,1]\n",
    "print(Sigma)\n",
    "\n",
    "# vector correlation\n",
    "from numpy import corrcoef\n",
    "# calculate correlation\n",
    "corr = corrcoef(x,y)[0,1]\n",
    "print(corr)\n",
    "\n",
    "# covariance matrix\n",
    "from numpy import cov\n",
    "# define matrix of observations\n",
    "X = array([\n",
    "[1, 5, 8],\n",
    "[3, 5, 11],\n",
    "[2, 4, 9],\n",
    "[3, 6, 10],\n",
    "[1, 5, 10]])\n",
    "print(X)\n",
    "# calculate covariance matrix\n",
    "Sigma = cov(X.T)\n",
    "print(Sigma)\n"
   ]
  },
  {
   "cell_type": "markdown",
   "metadata": {},
   "source": [
    "#### Chapter 18: Principal Component Analysis\n",
    "is a method for reducing the dimensionality  of data. It can be thought of as a projection method where data with m-columns (features) is projected into a subspace with m or fewer columns, whilst retaining the essence of the original data.\n",
    "\n",
    "First: Center the values in each column\n",
    "\n",
    "$C = A - M \\quad $    with, $M = mean(A) \\quad $     and $A: n \\times m $ design matrix.  \n",
    "    \n",
    "Second: Calculate covariance matrix\n",
    "\n",
    "$ V = cov(C) $\n",
    "\n",
    "Finally: Calculate eigendecomposition on covariance matrix.\n",
    "\n",
    "$ \\lambda , Q = eig(V) $\n",
    "\n",
    "The eigenvectors can be sorted by the eigenvalues in descending order to provide a ranking of the components or axes of the new subspace for A. We would select k eigenvectors, called principal components, that have the k largest eigenvalues.\n",
    "\n",
    "Data can be projected into thesubspace via matrix multiplication:\n",
    "\n",
    "$ P = B^T · A $ with $B$: matrix with selected $k$ components"
   ]
  },
  {
   "cell_type": "code",
   "execution_count": 3,
   "metadata": {},
   "outputs": [
    {
     "name": "stdout",
     "output_type": "stream",
     "text": [
      "[[1 2]\n",
      " [3 4]\n",
      " [5 6]]\n",
      "[[4. 4.]\n",
      " [4. 4.]]\n",
      "[[ 0.70710678 -0.70710678]\n",
      " [ 0.70710678  0.70710678]]\n",
      "[8. 0.]\n",
      "[[-2.82842712  0.        ]\n",
      " [ 0.          0.        ]\n",
      " [ 2.82842712  0.        ]]\n"
     ]
    }
   ],
   "source": [
    "from numpy import array\n",
    "# define matrix\n",
    "A = array([\n",
    "[1, 2],\n",
    "[3, 4],\n",
    "[5, 6]])\n",
    "print(A)\n",
    "\n",
    "# principal component analysis\n",
    "from numpy import mean\n",
    "from numpy import cov\n",
    "from numpy.linalg import eig\n",
    "# column means\n",
    "M = mean(A, axis=0)\n",
    "# center columns by subtracting column means\n",
    "C = A - M\n",
    "# calculate covariance matrix of centered matrix\n",
    "V = cov(C.T)\n",
    "print(V)\n",
    "# factorize covariance matrix\n",
    "values, vectors = eig(V)\n",
    "print(vectors)\n",
    "print(values)\n",
    "# project data\n",
    "P = vectors.T.dot(C.T)\n",
    "print(P.T)"
   ]
  },
  {
   "cell_type": "markdown",
   "metadata": {},
   "source": [
    "#### Chapter 19: Linear Regression\n",
    "Method for modeling the relationship between one or more independent variables and a dependent variable.\n",
    "\n",
    "$ y = f(x) = b_0 + (b_1 \\times x_1) + ··· + (b_n \\times x_n)$\n",
    "\n",
    "using matrix notation:\n",
    "\n",
    "$ y = Xb $\n",
    "\n",
    "Where $X$ is the design matrix (dataset), $b$ a vector of coefficients and $y$ a vector of output variables for each row of $X$ \n",
    "To calculate the best fitting line, we can use linear least squares:\n",
    "\n",
    "\\begin{align}\n",
    "    \\lVert X·b - y \\rVert^2 = \\sum_{i=1}^m \\sum_{j=1}^n X_{i,j} · (b_j - y_i)^2\n",
    "\\end{align}\n",
    "\n",
    "this could be solved using normal equation:\n",
    "\n",
    "$ X^T · X · b = X^T · y $\n",
    "    \n",
    "then \n",
    "\n",
    "$ b = (X^T · X)^{-1} · X^T · y $\n",
    "\n",
    "We can solve the linear regression via QR Decomposition\n",
    "\n",
    "\\begin{align}\n",
    "    & A = Q · R \\\\\n",
    "    & b = R^{-1} · Q^T · y\n",
    "\\end{align}\n",
    "\n",
    "Or with SVD and Pseudoinverse\n",
    "\n",
    "\\begin{align}\n",
    "    & X = U · \\Sigma · V^T \\\\\n",
    "    & b = X^+ · y \\\\\n",
    "    & X^+ = U · D^+ · V^T\n",
    "\\end{align}\n"
   ]
  },
  {
   "cell_type": "code",
   "execution_count": 20,
   "metadata": {},
   "outputs": [
    {
     "name": "stdout",
     "output_type": "stream",
     "text": [
      "[[0.05 0.12]\n",
      " [0.18 0.22]\n",
      " [0.31 0.35]\n",
      " [0.42 0.38]\n",
      " [0.5  0.49]]\n",
      "[1.00233226]\n"
     ]
    },
    {
     "data": {
      "image/png": "[encoded data removed]",
      "text/plain": [
       "<Figure size 432x288 with 1 Axes>"
      ]
     },
     "metadata": {
      "needs_background": "light"
     },
     "output_type": "display_data"
    },
    {
     "name": "stdout",
     "output_type": "stream",
     "text": [
      "[1.00233226]\n"
     ]
    },
    {
     "data": {
      "image/png": "[encoded data removed]",
      "text/plain": [
       "<Figure size 432x288 with 1 Axes>"
      ]
     },
     "metadata": {
      "needs_background": "light"
     },
     "output_type": "display_data"
    },
    {
     "name": "stdout",
     "output_type": "stream",
     "text": [
      "[1.00233226]\n"
     ]
    },
    {
     "data": {
      "image/png": "[encoded data removed]",
      "text/plain": [
       "<Figure size 432x288 with 1 Axes>"
      ]
     },
     "metadata": {
      "needs_background": "light"
     },
     "output_type": "display_data"
    },
    {
     "name": "stdout",
     "output_type": "stream",
     "text": [
      "[1.00233226]\n"
     ]
    },
    {
     "name": "stderr",
     "output_type": "stream",
     "text": [
      "F:\\Documentacion\\Desarrollo\\Python\\Anaconda\\envs\\tf_2\\lib\\site-packages\\ipykernel_launcher.py:56: FutureWarning: `rcond` parameter will change to the default of machine precision times ``max(M, N)`` where M and N are the input matrix dimensions.\n",
      "To use the future default and silence this warning we advise to pass `rcond=None`, to keep using the old, explicitly pass `rcond=-1`.\n"
     ]
    },
    {
     "data": {
      "image/png": "[encoded data removed]",
      "text/plain": [
       "<Figure size 432x288 with 1 Axes>"
      ]
     },
     "metadata": {
      "needs_background": "light"
     },
     "output_type": "display_data"
    }
   ],
   "source": [
    "from numpy import array\n",
    "from matplotlib import pyplot\n",
    "# define dataset\n",
    "data = array([\n",
    "[0.05, 0.12],\n",
    "[0.18, 0.22],\n",
    "[0.31, 0.35],\n",
    "[0.42, 0.38],\n",
    "[0.5, 0.49]])\n",
    "print(data)\n",
    "\n",
    "# linear regression dataset\n",
    "# split into inputs and outputs\n",
    "X, y = data[:,0], data[:,1]\n",
    "X = X.reshape((len(X), 1))\n",
    "# direct solution to linear least squares\n",
    "from numpy.linalg import inv\n",
    "# linear least squares\n",
    "b = inv(X.T.dot(X)).dot(X.T).dot(y)\n",
    "print(b)\n",
    "# predict using coefficients\n",
    "yhat = X.dot(b)\n",
    "# plot data and predictions\n",
    "pyplot.scatter(X, y)\n",
    "pyplot.plot(X, yhat, color='red')\n",
    "pyplot.show()\n",
    "\n",
    "# QR decomposition solution to linear least squares\n",
    "from numpy.linalg import qr\n",
    "# factorize\n",
    "Q, R = qr(X)\n",
    "b = inv(R).dot(Q.T).dot(y)\n",
    "print(b)\n",
    "# predict using coefficients\n",
    "yhat = X.dot(b)\n",
    "# plot data and predictions\n",
    "pyplot.scatter(X, y)\n",
    "pyplot.plot(X, yhat, color='red')\n",
    "pyplot.show()\n",
    "\n",
    "# SVD solution via pseudoinverse to linear least squares\n",
    "from numpy.linalg import pinv\n",
    "# calculate coefficients\n",
    "b = pinv(X).dot(y)\n",
    "print(b)\n",
    "# predict using coefficients\n",
    "yhat = X.dot(b)\n",
    "# plot data and predictions\n",
    "pyplot.scatter(X, y)\n",
    "pyplot.plot(X, yhat, color='red')\n",
    "pyplot.show()\n",
    "\n",
    "# least squares via convenience function\n",
    "from numpy.linalg import lstsq\n",
    "# calculate coefficients\n",
    "b, residuals, rank, s = lstsq(X, y)\n",
    "print(b)\n",
    "# predict using coefficients\n",
    "yhat = X.dot(b)\n",
    "# plot data and predictions\n",
    "pyplot.scatter(X, y)\n",
    "pyplot.plot(X, yhat, color='red')\n",
    "pyplot.show()"
   ]
  },
  {
   "cell_type": "code",
   "execution_count": null,
   "metadata": {},
   "outputs": [],
   "source": []
  }
 ],
 "metadata": {
  "kernelspec": {
   "display_name": "Python 3",
   "language": "python",
   "name": "python3"
  },
  "language_info": {
   "codemirror_mode": {
    "name": "ipython",
    "version": 3
   },
   "file_extension": ".py",
   "mimetype": "text/x-python",
   "name": "python",
   "nbconvert_exporter": "python",
   "pygments_lexer": "ipython3",
   "version": "3.7.5"
  }
 },
 "nbformat": 4,
 "nbformat_minor": 4
}
