{
 "cells": [
  {
   "cell_type": "markdown",
   "metadata": {},
   "source": [
    "### Autoencoder model on CTG dataset\n",
    "- Load Data\n",
    "- Preprocess Data\n",
    "- Define Autoencoder Model\n",
    "- Train Model\n",
    "- Generate predictions for Train and Test Sets\n",
    "\n",
    "- Evaluate generated data on classification models"
   ]
  },
  {
   "cell_type": "code",
   "execution_count": 1,
   "metadata": {},
   "outputs": [],
   "source": [
    "import numpy as np # linear algebra\n",
    "import pandas as pd # data processing, CSV file I/O (e.g. pd.read_csv)\n",
    "import tensorflow as tf\n",
    "from tensorflow import keras\n",
    "from tensorflow.keras import layers\n",
    "import matplotlib.pyplot as plt\n",
    "import seaborn as sns\n",
    "\n",
    "# Load Data\n",
    "ctg_data = pd.read_csv('../CTGRawData.csv', sep=';')"
   ]
  },
  {
   "cell_type": "code",
   "execution_count": 2,
   "metadata": {},
   "outputs": [],
   "source": [
    "# Preprocess Data\n",
    "# Separate Features from labels (last column)\n",
    "y = ctg_data['NSP']\n",
    "X = ctg_data.drop('NSP',axis=1).iloc[:,:21]\n",
    "from sklearn.model_selection import train_test_split\n",
    "# Split into train and test sets\n",
    "X_train, X_test, y_train, y_test = train_test_split(X,y,test_size=0.2)"
   ]
  },
  {
   "cell_type": "code",
   "execution_count": 3,
   "metadata": {},
   "outputs": [],
   "source": [
    "# Normalization of data sets\n",
    "# Data Scaling MinMax\n",
    "from sklearn.preprocessing import MinMaxScaler\n",
    "scaler = MinMaxScaler()\n",
    "X_train_norm = X_train\n",
    "X_test_norm = X_test\n",
    "\n",
    "X_train_norm = pd.DataFrame(scaler.fit_transform(X_train_norm))\n",
    "X_test_norm = pd.DataFrame(scaler.transform(X_test_norm))\n"
   ]
  },
  {
   "cell_type": "code",
   "execution_count": 4,
   "metadata": {},
   "outputs": [
    {
     "name": "stdout",
     "output_type": "stream",
     "text": [
      "         0         1         2         3         4         5         6   \\\n",
      "0  0.592593  0.000000  0.000000  0.086957  0.360000  0.088235  0.109890   \n",
      "1  0.685185  0.000000  0.000000  0.130435  0.733333  0.014706  0.065934   \n",
      "2  0.759259  0.192308  0.000000  0.173913  0.320000  0.147059  0.000000   \n",
      "3  0.851852  0.000000  0.000000  0.086957  0.600000  0.044118  0.472527   \n",
      "4  0.407407  0.038462  0.003546  0.043478  0.026667  0.367647  0.000000   \n",
      "\n",
      "         7      8    9   ...        11        12        13      14   15  \\\n",
      "0  0.179487  0.000  0.0  ...  0.112994  0.743119  0.275862  0.1250  0.0   \n",
      "1  0.189349  0.000  0.0  ...  0.118644  0.770642  0.310345  0.0625  0.0   \n",
      "2  0.094675  0.000  0.0  ...  0.220339  0.752294  0.448276  0.1250  0.0   \n",
      "3  0.171598  0.000  0.0  ...  0.214689  0.669725  0.362069  0.2500  0.0   \n",
      "4  0.000000  0.125  0.0  ...  0.485876  0.155963  0.293103  0.2500  0.0   \n",
      "\n",
      "         16        17        18        19   20  \n",
      "0  0.650794  0.623853  0.605505  0.003717  0.5  \n",
      "1  0.666667  0.651376  0.633028  0.003717  0.5  \n",
      "2  0.769841  0.770642  0.743119  0.007435  0.5  \n",
      "3  0.793651  0.779817  0.770642  0.003717  1.0  \n",
      "4  0.436508  0.385321  0.357798  0.163569  0.5  \n",
      "\n",
      "[5 rows x 21 columns]\n",
      "(1700, 21)\n"
     ]
    }
   ],
   "source": [
    "# Check Shape of data\n",
    "print(X_train_norm.head())\n",
    "print(X_train_norm.shape)\n",
    "\n",
    "# 21 features that we are going to try to reduce."
   ]
  },
  {
   "cell_type": "code",
   "execution_count": null,
   "metadata": {},
   "outputs": [],
   "source": [
    "import tensorflow as tf\n",
    "import matplotlib.pyplot as plt\n",
    "from typing import List\n",
    "\n",
    "def loss(x: np.ndarray, x_bar: np.ndarray) -> float:\n",
    "    return tf.losses.mean_squared_error(x, x_bar)\n",
    "\n",
    "def grad(model: Model, inputs: np.ndarray):\n",
    "    with tf.GradientTape() as tape:\n",
    "        reconstruction, inputs_reshaped = model(inputs)\n",
    "        loss_value = loss(inputs_reshaped, reconstruction)\n",
    "    return loss_value, tape.gradient(loss_value, model.trainable_variables), inputs_reshaped, reconstruction\n",
    "\n",
    "def train_model(model: Model):\n",
    "    optimizer = tf.keras.optimizers.Adam(learning_rate=0.001)\n",
    "    \n",
    "    num_epochs = 10\n",
    "    batch_size = 400\n",
    "\n",
    "    for epoch in range(num_epochs):\n",
    "        print(\"Epoch: \", epoch)\n",
    "        for x in range(0, len(x_train), batch_size):\n",
    "            x_inp = x_train[x : x + batch_size]\n",
    "            loss_value, grads, inputs_reshaped, reconstruction = grad(model, x_inp)\n",
    "            optimizer.apply_gradients(zip(grads, model.trainable_variables))\n",
    "\n",
    "        print(\"Step: {},Loss: {}\".format(epoch, sum(loss(inputs_reshaped, reconstruction)/batch_size).numpy()))"
   ]
  },
  {
   "cell_type": "code",
   "execution_count": null,
   "metadata": {},
   "outputs": [],
   "source": [
    "# Define Autoencoder\n",
    "class ComposeAutoEncoder(keras.models.Model):\n",
    "    def __init__(self):\n",
    "        super(ComposeAutoEncoder, self).__init__()\n",
    "        \n",
    "        # this is the size of our encoded representations\n",
    "        encoding_dim = 32  # 32 floats -> compression of factor 24.5, assuming the input is 784 floats\n",
    "        # this is our input placeholder\n",
    "        input_img = layers.Input(shape=(28,28))\n",
    "\n",
    "        self.flatten_input = layers.Flatten()(input_img)\n",
    "        # \"Encoder layers\"\n",
    "        self.encoder1 = layers.Dense(64, activation='relu')(self.flatten_input)\n",
    "        self.encoder2 = layers.Dense(32, activation='relu')(self.encoder1)\n",
    "        # \"Encoder output\" - \"bottleneck\"\n",
    "        self.bottleneck = layers.Dense(encoding_dim, activation='relu')(self.encoder2)\n",
    "        # this model maps an input to its encoded representation\n",
    "        self.encoder = keras.models.Model(input_img, self.bottleneck, name='encoder')\n",
    "\n",
    "        # \"Decoder layers\"\n",
    "        # create a placeholder for an encoded (32-dimensional) input\n",
    "        self.encoded_input = layers.Input(shape=(encoding_dim,))\n",
    "        self.decoder1 = layers.Dense(32, activation='relu')(self.encoded_input)\n",
    "        self.decoder2 = layers.Dense(64, activation='relu')(self.decoder1)\n",
    "        # \"decoded\" is the lossy reconstruction of the input\n",
    "        self.decoded_flatten = layers.Dense(784, activation='sigmoid')(self.decoder1)\n",
    "        self.decoded = layers.Reshape((28,28))(self.decoded_flatten)\n",
    "        # create the decoder model\n",
    "        self.decoder = keras.models.Model(self.encoded_input, self.decoded, name='decoder')\n",
    "\n",
    "    \n",
    "    def call(self, inp):\n",
    "        # full autoencoder for training\n",
    "        encoder_model = self.encoder(inp)\n",
    "        decoder_model = self.decoder(encoder_model)\n",
    "\n",
    "        return decoder_model, inp"
   ]
  }
 ],
 "metadata": {
  "kernelspec": {
   "display_name": "Python 3",
   "language": "python",
   "name": "python3"
  },
  "language_info": {
   "codemirror_mode": {
    "name": "ipython",
    "version": 3
   },
   "file_extension": ".py",
   "mimetype": "text/x-python",
   "name": "python",
   "nbconvert_exporter": "python",
   "pygments_lexer": "ipython3",
   "version": "3.7.4"
  }
 },
 "nbformat": 4,
 "nbformat_minor": 4
}
