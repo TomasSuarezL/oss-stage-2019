{
 "cells": [
  {
   "cell_type": "markdown",
   "metadata": {},
   "source": [
    "### Autoencoder model on CTG dataset\n",
    "- Load Data\n",
    "- Preprocess Data\n",
    "- Perform PCA on Data\n",
    "- Define Autoencoder Model\n",
    "- Train Model\n",
    "- Generate predictions for Train and Test Sets\n",
    "- Perform PCA on Encoded Data\n",
    "- Evaluate generated data on classification models"
   ]
  },
  {
   "cell_type": "code",
   "execution_count": 1,
   "metadata": {},
   "outputs": [],
   "source": [
    "import numpy as np # linear algebra\n",
    "import pandas as pd # data processing, CSV file I/O (e.g. pd.read_csv)\n",
    "import tensorflow as tf\n",
    "from tensorflow import keras\n",
    "from tensorflow.keras import layers\n",
    "import matplotlib.pyplot as plt\n",
    "import seaborn as sns\n",
    "\n",
    "# Load Data\n",
    "ctg_data = pd.read_csv('../CTGRawData.csv', sep=';')"
   ]
  },
  {
   "cell_type": "code",
   "execution_count": 2,
   "metadata": {},
   "outputs": [],
   "source": [
    "# Preprocess Data\n",
    "# Separate Features from labels (last column)\n",
    "y = ctg_data['NSP']\n",
    "X = ctg_data.drop('NSP',axis=1).iloc[:,:21]\n",
    "from sklearn.model_selection import train_test_split\n",
    "# Split into train and test sets\n",
    "X_train, X_test, y_train, y_test = train_test_split(X,y,test_size=0.2)"
   ]
  },
  {
   "cell_type": "code",
   "execution_count": 3,
   "metadata": {},
   "outputs": [],
   "source": [
    "# Normalization of data sets\n",
    "# Data Scaling MinMax\n",
    "from sklearn.preprocessing import MinMaxScaler\n",
    "scaler = MinMaxScaler()\n",
    "X_train_norm = X_train\n",
    "X_test_norm = X_test\n",
    "\n",
    "X_train_norm = pd.DataFrame(scaler.fit_transform(X_train_norm))\n",
    "X_test_norm = pd.DataFrame(scaler.transform(X_test_norm))\n"
   ]
  },
  {
   "cell_type": "code",
   "execution_count": 4,
   "metadata": {},
   "outputs": [
    {
     "name": "stdout",
     "output_type": "stream",
     "text": [
      "         0         1         2         3         4         5         6   \\\n",
      "0  0.075472  0.115385  0.000000  0.391304  0.689189  0.088235  0.000000   \n",
      "1  0.754717  0.000000  0.030142  0.000000  0.810811  0.014706  0.450549   \n",
      "2  0.320755  0.000000  0.000000  0.000000  0.391892  0.102941  0.252747   \n",
      "3  0.679245  0.000000  0.000000  0.260870  0.621622  0.029412  0.241758   \n",
      "4  0.320755  0.000000  0.000000  0.043478  0.648649  0.058824  0.000000   \n",
      "\n",
      "         7       8    9   ...        11        12        13        14   15  \\\n",
      "0  0.260766  0.0625  0.0  ...  0.344633  0.388889  0.293103  0.166667  0.0   \n",
      "1  0.165072  0.0000  0.0  ...  0.180791  0.648148  0.284483  0.222222  0.0   \n",
      "2  0.253589  0.0000  0.0  ...  0.451977  0.083333  0.172414  0.222222  0.0   \n",
      "3  0.150718  0.0000  0.0  ...  0.056497  0.879630  0.310345  0.000000  0.0   \n",
      "4  0.248804  0.0000  0.0  ...  0.276836  0.314815  0.120690  0.222222  0.0   \n",
      "\n",
      "         16        17        18        19   20  \n",
      "0  0.409449  0.366972  0.330275  0.052045  0.0  \n",
      "1  0.685039  0.669725  0.651376  0.000000  1.0  \n",
      "2  0.527559  0.477064  0.458716  0.007435  1.0  \n",
      "3  0.732283  0.715596  0.697248  0.000000  0.5  \n",
      "4  0.511811  0.467890  0.449541  0.007435  1.0  \n",
      "\n",
      "[5 rows x 21 columns]\n",
      "(1700, 21)\n",
      "[[0.0754717  0.11538462 0.         0.39130435 0.68918919 0.08823529\n",
      "  0.         0.26076555 0.0625     0.         0.         0.34463277\n",
      "  0.38888889 0.29310345 0.16666667 0.         0.40944882 0.36697248\n",
      "  0.33027523 0.05204461 0.        ]\n",
      " [0.75471698 0.         0.03014184 0.         0.81081081 0.01470588\n",
      "  0.45054945 0.16507177 0.         0.         0.         0.18079096\n",
      "  0.64814815 0.28448276 0.22222222 0.         0.68503937 0.66972477\n",
      "  0.65137615 0.         1.        ]\n",
      " [0.32075472 0.         0.         0.         0.39189189 0.10294118\n",
      "  0.25274725 0.25358852 0.         0.         0.         0.4519774\n",
      "  0.08333333 0.17241379 0.22222222 0.         0.52755906 0.47706422\n",
      "  0.4587156  0.00743494 1.        ]\n",
      " [0.67924528 0.         0.         0.26086957 0.62162162 0.02941176\n",
      "  0.24175824 0.1507177  0.         0.         0.         0.05649718\n",
      "  0.87962963 0.31034483 0.         0.         0.73228346 0.71559633\n",
      "  0.69724771 0.         0.5       ]\n",
      " [0.32075472 0.         0.         0.04347826 0.64864865 0.05882353\n",
      "  0.         0.24880383 0.         0.         0.         0.27683616\n",
      "  0.31481481 0.12068966 0.22222222 0.         0.51181102 0.46788991\n",
      "  0.44954128 0.00743494 1.        ]]\n"
     ]
    }
   ],
   "source": [
    "# Check Shape of data\n",
    "print(X_train_norm.head())\n",
    "print(X_train_norm.shape)\n",
    "print(np.array(X_train_norm)[:5])\n",
    "# 21 features that we are going to try to reduce."
   ]
  },
  {
   "cell_type": "code",
   "execution_count": 6,
   "metadata": {},
   "outputs": [],
   "source": [
    "import tensorflow as tf\n",
    "import matplotlib.pyplot as plt\n",
    "from typing import List\n",
    "\n",
    "def loss(x: np.ndarray, x_bar: np.ndarray) -> float:\n",
    "    return tf.losses.mean_squared_error(x, x_bar)\n",
    "\n",
    "def grad(model: keras.models.Model, inputs: np.ndarray):\n",
    "    with tf.GradientTape() as tape:\n",
    "        reconstruction, inputs_reshaped = model(inputs)\n",
    "        loss_value = loss(inputs_reshaped, reconstruction)\n",
    "    return loss_value, tape.gradient(loss_value, model.trainable_variables), inputs_reshaped, reconstruction\n",
    "\n",
    "def train_model(model: keras.models.Model, inputs: pd.DataFrame):\n",
    "    optimizer = tf.keras.optimizers.Adam(learning_rate=0.001)\n",
    "    x_train = np.array(inputs)\n",
    "    num_epochs = 30\n",
    "    batch_size = 400\n",
    "\n",
    "    for epoch in range(num_epochs):\n",
    "        print(\"Epoch: \", epoch)\n",
    "        for x in range(0, len(x_train), batch_size):\n",
    "            x_inp = x_train[x : x + batch_size]\n",
    "            loss_value, grads, inputs_reshaped, reconstruction = grad(model, x_inp)\n",
    "            optimizer.apply_gradients(zip(grads, model.trainable_variables))\n",
    "\n",
    "        print(\"Step: {},Loss: {}\".format(epoch, sum(loss(inputs_reshaped, reconstruction)/batch_size).numpy()))"
   ]
  },
  {
   "cell_type": "code",
   "execution_count": 7,
   "metadata": {},
   "outputs": [],
   "source": [
    "# Define Autoencoder\n",
    "class ComposeAutoEncoder(keras.models.Model):\n",
    "    def __init__(self):\n",
    "        super(ComposeAutoEncoder, self).__init__()\n",
    "        \n",
    "        # this is the size of our encoded representations\n",
    "        encoding_dim = 16  # 21/16 - we will try to reduce the dimensions to this number.\n",
    "        # this is our input placeholder\n",
    "        input_features = layers.Input(shape=(21))\n",
    "\n",
    "        self.flatten_input = layers.Flatten()(input_features)\n",
    "        # \"Encoder layers\"\n",
    "        self.encoder1 = layers.Dense(64, activation='relu')(self.flatten_input)\n",
    "        self.encoder2 = layers.Dense(32, activation='relu')(self.encoder1)\n",
    "        # \"Encoder output\" - \"bottleneck\"\n",
    "        self.bottleneck = layers.Dense(encoding_dim, activation='relu')(self.encoder2)\n",
    "        # this model maps an input to its encoded representation\n",
    "        self.encoder = keras.models.Model(input_features, self.bottleneck, name='encoder')\n",
    "\n",
    "        # \"Decoder layers\"\n",
    "        # create a placeholder for an encoded (32-dimensional) input\n",
    "        self.encoded_input = layers.Input(shape=(encoding_dim,))\n",
    "        self.decoder1 = layers.Dense(32, activation='relu')(self.encoded_input)\n",
    "        self.decoder2 = layers.Dense(64, activation='relu')(self.decoder1)\n",
    "        # \"decoded\" is the lossy reconstruction of the input\n",
    "        self.decoded = layers.Dense(21, activation='sigmoid')(self.decoder1)\n",
    "        # create the decoder model\n",
    "        self.decoder = keras.models.Model(self.encoded_input, self.decoded, name='decoder')\n",
    "\n",
    "    \n",
    "    def call(self, inp):\n",
    "        # full autoencoder for training\n",
    "        encoder_model = self.encoder(inp)\n",
    "        decoder_model = self.decoder(encoder_model)\n",
    "\n",
    "        return decoder_model, inp"
   ]
  },
  {
   "cell_type": "code",
   "execution_count": 8,
   "metadata": {},
   "outputs": [
    {
     "name": "stdout",
     "output_type": "stream",
     "text": [
      "Epoch:  0\n",
      "WARNING:tensorflow:Layer compose_auto_encoder is casting an input tensor from dtype float64 to the layer's dtype of float32, which is new behavior in TensorFlow 2.  The layer has dtype float32 because it's dtype defaults to floatx.\n",
      "\n",
      "If you intended to run this layer in float32, you can safely ignore this warning. If in doubt, this warning is likely only an issue if you are porting a TensorFlow 1.X model to TensorFlow 2.\n",
      "\n",
      "To change all layers to have dtype float64 by default, call `tf.keras.backend.set_floatx('float64')`. To change just this layer, pass dtype='float64' to the layer constructor. If you are the author of this layer, you can disable autocasting by passing autocast=False to the base Layer constructor.\n",
      "\n",
      "Step: 0,Loss: 0.03126535937190056\n",
      "Epoch:  1\n",
      "Step: 1,Loss: 0.030112095177173615\n",
      "Epoch:  2\n",
      "Step: 2,Loss: 0.028978293761610985\n",
      "Epoch:  3\n",
      "Step: 3,Loss: 0.027355892583727837\n",
      "Epoch:  4\n",
      "Step: 4,Loss: 0.02521403133869171\n",
      "Epoch:  5\n",
      "Step: 5,Loss: 0.022560540586709976\n",
      "Epoch:  6\n",
      "Step: 6,Loss: 0.01949266530573368\n",
      "Epoch:  7\n",
      "Step: 7,Loss: 0.016293494030833244\n",
      "Epoch:  8\n",
      "Step: 8,Loss: 0.013314832001924515\n",
      "Epoch:  9\n",
      "Step: 9,Loss: 0.010895207524299622\n",
      "Epoch:  10\n",
      "Step: 10,Loss: 0.009188049472868443\n",
      "Epoch:  11\n",
      "Step: 11,Loss: 0.008129659108817577\n",
      "Epoch:  12\n",
      "Step: 12,Loss: 0.007542688399553299\n",
      "Epoch:  13\n",
      "Step: 13,Loss: 0.0071846977807581425\n",
      "Epoch:  14\n",
      "Step: 14,Loss: 0.006950449664145708\n",
      "Epoch:  15\n",
      "Step: 15,Loss: 0.006831567268818617\n",
      "Epoch:  16\n",
      "Step: 16,Loss: 0.006763142067939043\n",
      "Epoch:  17\n",
      "Step: 17,Loss: 0.006677802186459303\n",
      "Epoch:  18\n",
      "Step: 18,Loss: 0.00657923799008131\n",
      "Epoch:  19\n",
      "Step: 19,Loss: 0.0064826104789972305\n",
      "Epoch:  20\n",
      "Step: 20,Loss: 0.006389949470758438\n",
      "Epoch:  21\n",
      "Step: 21,Loss: 0.006293122656643391\n",
      "Epoch:  22\n",
      "Step: 22,Loss: 0.006182486191391945\n",
      "Epoch:  23\n",
      "Step: 23,Loss: 0.006052796728909016\n",
      "Epoch:  24\n",
      "Step: 24,Loss: 0.0059103649109601974\n",
      "Epoch:  25\n",
      "Step: 25,Loss: 0.0057584866881370544\n",
      "Epoch:  26\n",
      "Step: 26,Loss: 0.005602661520242691\n",
      "Epoch:  27\n",
      "Step: 27,Loss: 0.005450356286019087\n",
      "Epoch:  28\n",
      "Step: 28,Loss: 0.005308748688548803\n",
      "Epoch:  29\n",
      "Step: 29,Loss: 0.005178397987037897\n"
     ]
    }
   ],
   "source": [
    "# Instantiate and train model\n",
    "autoencoder = ComposeAutoEncoder()\n",
    "train_model(autoencoder, X_train_norm)"
   ]
  },
  {
   "cell_type": "code",
   "execution_count": 9,
   "metadata": {},
   "outputs": [
    {
     "name": "stdout",
     "output_type": "stream",
     "text": [
      "WARNING:tensorflow:Entity <bound method ComposeAutoEncoder.call of <__main__.ComposeAutoEncoder object at 0x000002056AAB2508>> could not be transformed and will be executed as-is. Please report this to the AutoGraph team. When filing the bug, set the verbosity to 10 (on Linux, `export AUTOGRAPH_VERBOSITY=10`) and attach the full output. Cause: Bad argument number for Name: 3, expecting 4\n",
      "WARNING: Entity <bound method ComposeAutoEncoder.call of <__main__.ComposeAutoEncoder object at 0x000002056AAB2508>> could not be transformed and will be executed as-is. Please report this to the AutoGraph team. When filing the bug, set the verbosity to 10 (on Linux, `export AUTOGRAPH_VERBOSITY=10`) and attach the full output. Cause: Bad argument number for Name: 3, expecting 4\n"
     ]
    }
   ],
   "source": [
    "predictions = autoencoder.predict(np.array(X_test_norm))"
   ]
  },
  {
   "cell_type": "code",
   "execution_count": 15,
   "metadata": {},
   "outputs": [
    {
     "name": "stdout",
     "output_type": "stream",
     "text": [
      "                0           1           2           3           4\n",
      "count  426.000000  426.000000  426.000000  426.000000  426.000000\n",
      "mean     0.532436    0.082475    0.007753    0.146734    0.474328\n",
      "std      0.057266    0.030605    0.006593    0.029322    0.147643\n",
      "min      0.398241    0.028837    0.000688    0.087296    0.221656\n",
      "25%      0.493857    0.060143    0.003193    0.125589    0.355994\n",
      "50%      0.532846    0.075703    0.005323    0.143432    0.456768\n",
      "75%      0.574651    0.102335    0.010678    0.164908    0.580504\n",
      "max      0.646960    0.186834    0.041390    0.248167    0.781621\n",
      "                0           1           2           3           4\n",
      "count  426.000000  426.000000  426.000000  426.000000  426.000000\n",
      "mean     0.530251    0.103467    0.010480    0.148908    0.478810\n",
      "std      0.184262    0.134833    0.046596    0.120898    0.231382\n",
      "min      0.075472    0.000000    0.000000    0.000000    0.000000\n",
      "25%      0.396226    0.000000    0.000000    0.043478    0.270270\n",
      "50%      0.518868    0.038462    0.000000    0.130435    0.513514\n",
      "75%      0.660377    0.153846    0.003546    0.217391    0.662162\n",
      "max      1.018868    0.653846    0.576241    0.739130    1.013514\n"
     ]
    }
   ],
   "source": [
    "predictions_dataframe = pd.DataFrame(predictions[0])\n",
    "original_dataframe = pd.DataFrame(predictions[1])\n",
    "print(predictions_dataframe.iloc[:,:5].describe())\n",
    "print(original_dataframe.iloc[:,:5].describe())"
   ]
  },
  {
   "cell_type": "code",
   "execution_count": 44,
   "metadata": {},
   "outputs": [],
   "source": []
  },
  {
   "cell_type": "code",
   "execution_count": null,
   "metadata": {},
   "outputs": [],
   "source": []
  },
  {
   "cell_type": "code",
   "execution_count": null,
   "metadata": {},
   "outputs": [],
   "source": []
  },
  {
   "cell_type": "code",
   "execution_count": null,
   "metadata": {},
   "outputs": [],
   "source": []
  },
  {
   "cell_type": "code",
   "execution_count": null,
   "metadata": {},
   "outputs": [],
   "source": []
  }
 ],
 "metadata": {
  "kernelspec": {
   "display_name": "Python 3",
   "language": "python",
   "name": "python3"
  },
  "language_info": {
   "codemirror_mode": {
    "name": "ipython",
    "version": 3
   },
   "file_extension": ".py",
   "mimetype": "text/x-python",
   "name": "python",
   "nbconvert_exporter": "python",
   "pygments_lexer": "ipython3",
   "version": "3.7.4"
  }
 },
 "nbformat": 4,
 "nbformat_minor": 4
}
