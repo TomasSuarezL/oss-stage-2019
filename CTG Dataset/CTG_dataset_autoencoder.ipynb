{
 "cells": [
  {
   "cell_type": "markdown",
   "metadata": {},
   "source": [
    "### Autoencoder model on CTG dataset\n",
    "- Load Data\n",
    "- Preprocess Data\n",
    "- Define Autoencoder Model\n",
    "- Train Model\n",
    "- Generate predictions for Train and Test Sets\n",
    "\n",
    "- Evaluate generated data on classification models"
   ]
  },
  {
   "cell_type": "code",
   "execution_count": 1,
   "metadata": {},
   "outputs": [],
   "source": [
    "import numpy as np # linear algebra\n",
    "import pandas as pd # data processing, CSV file I/O (e.g. pd.read_csv)\n",
    "import tensorflow as tf\n",
    "from tensorflow import keras\n",
    "from tensorflow.keras import layers\n",
    "import matplotlib.pyplot as plt\n",
    "import seaborn as sns\n",
    "\n",
    "# Load Data\n",
    "ctg_data = pd.read_csv('../CTGRawData.csv', sep=';')"
   ]
  },
  {
   "cell_type": "code",
   "execution_count": 2,
   "metadata": {},
   "outputs": [],
   "source": [
    "# Preprocess Data\n",
    "# Separate Features from labels (last column)\n",
    "y = ctg_data['NSP']\n",
    "X = ctg_data.drop('NSP',axis=1).iloc[:,:21]\n",
    "from sklearn.model_selection import train_test_split\n",
    "# Split into train and test sets\n",
    "X_train, X_test, y_train, y_test = train_test_split(X,y,test_size=0.2)"
   ]
  },
  {
   "cell_type": "code",
   "execution_count": 3,
   "metadata": {},
   "outputs": [],
   "source": [
    "# Normalization of data sets\n",
    "# Data Scaling MinMax\n",
    "from sklearn.preprocessing import MinMaxScaler\n",
    "scaler = MinMaxScaler()\n",
    "X_train_norm = X_train\n",
    "X_test_norm = X_test\n",
    "\n",
    "X_train_norm = pd.DataFrame(scaler.fit_transform(X_train_norm))\n",
    "X_test_norm = pd.DataFrame(scaler.transform(X_test_norm))\n"
   ]
  },
  {
   "cell_type": "code",
   "execution_count": 17,
   "metadata": {},
   "outputs": [
    {
     "name": "stdout",
     "output_type": "stream",
     "text": [
      "         0         1         2         3         4         5         6   \\\n",
      "0  0.592593  0.000000  0.000000  0.086957  0.360000  0.088235  0.109890   \n",
      "1  0.685185  0.000000  0.000000  0.130435  0.733333  0.014706  0.065934   \n",
      "2  0.759259  0.192308  0.000000  0.173913  0.320000  0.147059  0.000000   \n",
      "3  0.851852  0.000000  0.000000  0.086957  0.600000  0.044118  0.472527   \n",
      "4  0.407407  0.038462  0.003546  0.043478  0.026667  0.367647  0.000000   \n",
      "\n",
      "         7      8    9   ...        11        12        13      14   15  \\\n",
      "0  0.179487  0.000  0.0  ...  0.112994  0.743119  0.275862  0.1250  0.0   \n",
      "1  0.189349  0.000  0.0  ...  0.118644  0.770642  0.310345  0.0625  0.0   \n",
      "2  0.094675  0.000  0.0  ...  0.220339  0.752294  0.448276  0.1250  0.0   \n",
      "3  0.171598  0.000  0.0  ...  0.214689  0.669725  0.362069  0.2500  0.0   \n",
      "4  0.000000  0.125  0.0  ...  0.485876  0.155963  0.293103  0.2500  0.0   \n",
      "\n",
      "         16        17        18        19   20  \n",
      "0  0.650794  0.623853  0.605505  0.003717  0.5  \n",
      "1  0.666667  0.651376  0.633028  0.003717  0.5  \n",
      "2  0.769841  0.770642  0.743119  0.007435  0.5  \n",
      "3  0.793651  0.779817  0.770642  0.003717  1.0  \n",
      "4  0.436508  0.385321  0.357798  0.163569  0.5  \n",
      "\n",
      "[5 rows x 21 columns]\n",
      "(1700, 21)\n",
      "[[0.59259259 0.         0.         0.08695652 0.36       0.08823529\n",
      "  0.10989011 0.17948718 0.         0.         0.         0.11299435\n",
      "  0.74311927 0.27586207 0.125      0.         0.65079365 0.62385321\n",
      "  0.60550459 0.00371747 0.5       ]\n",
      " [0.68518519 0.         0.         0.13043478 0.73333333 0.01470588\n",
      "  0.06593407 0.18934911 0.         0.         0.         0.11864407\n",
      "  0.7706422  0.31034483 0.0625     0.         0.66666667 0.65137615\n",
      "  0.63302752 0.00371747 0.5       ]\n",
      " [0.75925926 0.19230769 0.         0.17391304 0.32       0.14705882\n",
      "  0.         0.09467456 0.         0.         0.         0.22033898\n",
      "  0.75229358 0.44827586 0.125      0.         0.76984127 0.7706422\n",
      "  0.74311927 0.00743494 0.5       ]\n",
      " [0.85185185 0.         0.         0.08695652 0.6        0.04411765\n",
      "  0.47252747 0.17159763 0.         0.         0.         0.21468927\n",
      "  0.66972477 0.36206897 0.25       0.         0.79365079 0.77981651\n",
      "  0.7706422  0.00371747 1.        ]\n",
      " [0.40740741 0.03846154 0.0035461  0.04347826 0.02666667 0.36764706\n",
      "  0.         0.         0.125      0.         0.25       0.48587571\n",
      "  0.1559633  0.29310345 0.25       0.         0.43650794 0.3853211\n",
      "  0.35779817 0.16356877 0.5       ]]\n"
     ]
    }
   ],
   "source": [
    "# Check Shape of data\n",
    "print(X_train_norm.head())\n",
    "print(X_train_norm.shape)\n",
    "print(np.array(X_train_norm)[:5])\n",
    "# 21 features that we are going to try to reduce."
   ]
  },
  {
   "cell_type": "code",
   "execution_count": 41,
   "metadata": {},
   "outputs": [],
   "source": [
    "import tensorflow as tf\n",
    "import matplotlib.pyplot as plt\n",
    "from typing import List\n",
    "\n",
    "def loss(x: np.ndarray, x_bar: np.ndarray) -> float:\n",
    "    return tf.losses.mean_squared_error(x, x_bar)\n",
    "\n",
    "def grad(model: keras.models.Model, inputs: np.ndarray):\n",
    "    with tf.GradientTape() as tape:\n",
    "        reconstruction, inputs_reshaped = model(inputs)\n",
    "        loss_value = loss(inputs_reshaped, reconstruction)\n",
    "    return loss_value, tape.gradient(loss_value, model.trainable_variables), inputs_reshaped, reconstruction\n",
    "\n",
    "def train_model(model: keras.models.Model, inputs: pd.DataFrame):\n",
    "    optimizer = tf.keras.optimizers.Adam(learning_rate=0.001)\n",
    "    x_train = np.array(inputs)\n",
    "    num_epochs = 30\n",
    "    batch_size = 400\n",
    "\n",
    "    for epoch in range(num_epochs):\n",
    "        print(\"Epoch: \", epoch)\n",
    "        for x in range(0, len(x_train), batch_size):\n",
    "            x_inp = x_train[x : x + batch_size]\n",
    "            loss_value, grads, inputs_reshaped, reconstruction = grad(model, x_inp)\n",
    "            optimizer.apply_gradients(zip(grads, model.trainable_variables))\n",
    "\n",
    "        print(\"Step: {},Loss: {}\".format(epoch, sum(loss(inputs_reshaped, reconstruction)/batch_size).numpy()))"
   ]
  },
  {
   "cell_type": "code",
   "execution_count": 14,
   "metadata": {},
   "outputs": [],
   "source": [
    "# Define Autoencoder\n",
    "class ComposeAutoEncoder(keras.models.Model):\n",
    "    def __init__(self):\n",
    "        super(ComposeAutoEncoder, self).__init__()\n",
    "        \n",
    "        # this is the size of our encoded representations\n",
    "        encoding_dim = 16  # 21/16 - we will try to reduce the dimensions to this number.\n",
    "        # this is our input placeholder\n",
    "        input_features = layers.Input(shape=(21))\n",
    "\n",
    "        self.flatten_input = layers.Flatten()(input_features)\n",
    "        # \"Encoder layers\"\n",
    "        self.encoder1 = layers.Dense(64, activation='relu')(self.flatten_input)\n",
    "        self.encoder2 = layers.Dense(32, activation='relu')(self.encoder1)\n",
    "        # \"Encoder output\" - \"bottleneck\"\n",
    "        self.bottleneck = layers.Dense(encoding_dim, activation='relu')(self.encoder2)\n",
    "        # this model maps an input to its encoded representation\n",
    "        self.encoder = keras.models.Model(input_features, self.bottleneck, name='encoder')\n",
    "\n",
    "        # \"Decoder layers\"\n",
    "        # create a placeholder for an encoded (32-dimensional) input\n",
    "        self.encoded_input = layers.Input(shape=(encoding_dim,))\n",
    "        self.decoder1 = layers.Dense(32, activation='relu')(self.encoded_input)\n",
    "        self.decoder2 = layers.Dense(64, activation='relu')(self.decoder1)\n",
    "        # \"decoded\" is the lossy reconstruction of the input\n",
    "        self.decoded = layers.Dense(21, activation='sigmoid')(self.decoder1)\n",
    "        # create the decoder model\n",
    "        self.decoder = keras.models.Model(self.encoded_input, self.decoded, name='decoder')\n",
    "\n",
    "    \n",
    "    def call(self, inp):\n",
    "        # full autoencoder for training\n",
    "        encoder_model = self.encoder(inp)\n",
    "        decoder_model = self.decoder(encoder_model)\n",
    "\n",
    "        return decoder_model, inp"
   ]
  },
  {
   "cell_type": "code",
   "execution_count": 42,
   "metadata": {},
   "outputs": [
    {
     "name": "stdout",
     "output_type": "stream",
     "text": [
      "Epoch:  0\n",
      "WARNING:tensorflow:Layer compose_auto_encoder_4 is casting an input tensor from dtype float64 to the layer's dtype of float32, which is new behavior in TensorFlow 2.  The layer has dtype float32 because it's dtype defaults to floatx.\n",
      "\n",
      "If you intended to run this layer in float32, you can safely ignore this warning. If in doubt, this warning is likely only an issue if you are porting a TensorFlow 1.X model to TensorFlow 2.\n",
      "\n",
      "To change all layers to have dtype float64 by default, call `tf.keras.backend.set_floatx('float64')`. To change just this layer, pass dtype='float64' to the layer constructor. If you are the author of this layer, you can disable autocasting by passing autocast=False to the base Layer constructor.\n",
      "\n",
      "Step: 0,Loss: 0.03069094754755497\n",
      "Epoch:  1\n",
      "Step: 1,Loss: 0.02953142300248146\n",
      "Epoch:  2\n",
      "Step: 2,Loss: 0.027845604345202446\n",
      "Epoch:  3\n",
      "Step: 3,Loss: 0.025549378246068954\n",
      "Epoch:  4\n",
      "Step: 4,Loss: 0.022586962208151817\n",
      "Epoch:  5\n",
      "Step: 5,Loss: 0.019061794504523277\n",
      "Epoch:  6\n",
      "Step: 6,Loss: 0.01549462042748928\n",
      "Epoch:  7\n",
      "Step: 7,Loss: 0.0125578036531806\n",
      "Epoch:  8\n",
      "Step: 8,Loss: 0.01051331590861082\n",
      "Epoch:  9\n",
      "Step: 9,Loss: 0.009121145121753216\n",
      "Epoch:  10\n",
      "Step: 10,Loss: 0.008163249120116234\n",
      "Epoch:  11\n",
      "Step: 11,Loss: 0.007515279110521078\n",
      "Epoch:  12\n",
      "Step: 12,Loss: 0.006956912111490965\n",
      "Epoch:  13\n",
      "Step: 13,Loss: 0.006487374193966389\n",
      "Epoch:  14\n",
      "Step: 14,Loss: 0.006091434508562088\n",
      "Epoch:  15\n",
      "Step: 15,Loss: 0.005748867988586426\n",
      "Epoch:  16\n",
      "Step: 16,Loss: 0.005431720521301031\n",
      "Epoch:  17\n",
      "Step: 17,Loss: 0.005152944941073656\n",
      "Epoch:  18\n",
      "Step: 18,Loss: 0.0049165524542331696\n",
      "Epoch:  19\n",
      "Step: 19,Loss: 0.004714151378720999\n",
      "Epoch:  20\n",
      "Step: 20,Loss: 0.004534107632935047\n",
      "Epoch:  21\n",
      "Step: 21,Loss: 0.004358699545264244\n",
      "Epoch:  22\n",
      "Step: 22,Loss: 0.004194753244519234\n",
      "Epoch:  23\n",
      "Step: 23,Loss: 0.004046601243317127\n",
      "Epoch:  24\n",
      "Step: 24,Loss: 0.003911048639565706\n",
      "Epoch:  25\n",
      "Step: 25,Loss: 0.0037879834417253733\n",
      "Epoch:  26\n",
      "Step: 26,Loss: 0.0036753141321241856\n",
      "Epoch:  27\n",
      "Step: 27,Loss: 0.003569400869309902\n",
      "Epoch:  28\n",
      "Step: 28,Loss: 0.0034645411651581526\n",
      "Epoch:  29\n",
      "Step: 29,Loss: 0.003358158515766263\n"
     ]
    }
   ],
   "source": [
    "# Instantiate and train model\n",
    "autoencoder = ComposeAutoEncoder()\n",
    "train_model(autoencoder, X_train_norm)"
   ]
  },
  {
   "cell_type": "code",
   "execution_count": 43,
   "metadata": {},
   "outputs": [
    {
     "name": "stdout",
     "output_type": "stream",
     "text": [
      "WARNING:tensorflow:Entity <bound method ComposeAutoEncoder.call of <__main__.ComposeAutoEncoder object at 0x00000218452CD948>> could not be transformed and will be executed as-is. Please report this to the AutoGraph team. When filing the bug, set the verbosity to 10 (on Linux, `export AUTOGRAPH_VERBOSITY=10`) and attach the full output. Cause: Bad argument number for Name: 3, expecting 4\n",
      "WARNING: Entity <bound method ComposeAutoEncoder.call of <__main__.ComposeAutoEncoder object at 0x00000218452CD948>> could not be transformed and will be executed as-is. Please report this to the AutoGraph team. When filing the bug, set the verbosity to 10 (on Linux, `export AUTOGRAPH_VERBOSITY=10`) and attach the full output. Cause: Bad argument number for Name: 3, expecting 4\n"
     ]
    }
   ],
   "source": [
    "predictions = autoencoder.predict(np.array(X_test_norm))"
   ]
  },
  {
   "cell_type": "code",
   "execution_count": 44,
   "metadata": {},
   "outputs": [],
   "source": [
    "predictions[0][:1]\n",
    "model_predictions = predictions[0]\n",
    "original = predictions[1]"
   ]
  },
  {
   "cell_type": "code",
   "execution_count": 40,
   "metadata": {},
   "outputs": [
    {
     "data": {
      "text/plain": [
       "0.08069318816775367"
      ]
     },
     "execution_count": 40,
     "metadata": {},
     "output_type": "execute_result"
    }
   ],
   "source": [
    "np.sum(np.square(model_predictions[0] - original[0]))/21"
   ]
  },
  {
   "cell_type": "code",
   "execution_count": 45,
   "metadata": {},
   "outputs": [
    {
     "data": {
      "text/plain": [
       "<tf.Tensor: id=40070, shape=(426,), dtype=float32, numpy=\n",
       "array([0.01202125, 0.00751258, 0.01543015, 0.00894597, 0.00999405,\n",
       "       0.05749016, 0.00385193, 0.00458007, 0.01495536, 0.00742398,\n",
       "       0.01497885, 0.00765213, 0.01546528, 0.03273059, 0.01949633,\n",
       "       0.01722872, 0.01925274, 0.0111112 , 0.00883612, 0.01063619,\n",
       "       0.01277492, 0.03945161, 0.00928657, 0.01130201, 0.01307223,\n",
       "       0.03189211, 0.0083391 , 0.02406597, 0.01008516, 0.01624949,\n",
       "       0.01727198, 0.01125048, 0.01247197, 0.0170657 , 0.00824525,\n",
       "       0.00600527, 0.00930242, 0.0048705 , 0.01265698, 0.00996941,\n",
       "       0.01366588, 0.00267243, 0.00808315, 0.00613591, 0.01316005,\n",
       "       0.0136971 , 0.01684471, 0.02621414, 0.01796221, 0.04345824,\n",
       "       0.00853656, 0.00629912, 0.03311878, 0.01021268, 0.03337889,\n",
       "       0.01716169, 0.00940685, 0.01598976, 0.0111738 , 0.01070078,\n",
       "       0.03457233, 0.02495486, 0.01119348, 0.01938914, 0.01655806,\n",
       "       0.01310706, 0.00897702, 0.00962229, 0.01397998, 0.01762207,\n",
       "       0.021787  , 0.00645189, 0.0058349 , 0.00937782, 0.00914373,\n",
       "       0.00725569, 0.01051624, 0.02306804, 0.00751234, 0.00621105,\n",
       "       0.00889386, 0.00730434, 0.04576155, 0.02839042, 0.01726548,\n",
       "       0.00845078, 0.0112737 , 0.00748914, 0.00577178, 0.01981114,\n",
       "       0.01522201, 0.00826819, 0.01040136, 0.01486371, 0.01274299,\n",
       "       0.01327686, 0.01863713, 0.00358502, 0.00573664, 0.00965555,\n",
       "       0.00281592, 0.10499757, 0.0382562 , 0.00999833, 0.01963955,\n",
       "       0.05482931, 0.02135483, 0.05381117, 0.02303696, 0.01126097,\n",
       "       0.00790346, 0.00753645, 0.00207821, 0.00901469, 0.01718793,\n",
       "       0.00272145, 0.00564261, 0.02418765, 0.01272439, 0.0038822 ,\n",
       "       0.01152195, 0.02794044, 0.00955997, 0.00605237, 0.00768575,\n",
       "       0.01425079, 0.01316271, 0.0370137 , 0.02119213, 0.02225741,\n",
       "       0.01393222, 0.02727624, 0.02433945, 0.01155832, 0.01248196,\n",
       "       0.01365811, 0.01440418, 0.00960813, 0.00697424, 0.01411729,\n",
       "       0.02276761, 0.02130066, 0.00347886, 0.00776107, 0.00823941,\n",
       "       0.01271366, 0.00798609, 0.03055803, 0.00865844, 0.00709898,\n",
       "       0.00814212, 0.010304  , 0.00517205, 0.00984165, 0.01959289,\n",
       "       0.02395307, 0.01305842, 0.01985885, 0.00992514, 0.00802683,\n",
       "       0.02598264, 0.02063399, 0.02484138, 0.00680514, 0.01616389,\n",
       "       0.00923384, 0.0109608 , 0.00463844, 0.01417864, 0.00800101,\n",
       "       0.00366381, 0.01289387, 0.0110947 , 0.00537215, 0.01256568,\n",
       "       0.02379029, 0.01187715, 0.02002843, 0.00933128, 0.01237661,\n",
       "       0.01203906, 0.008319  , 0.01175434, 0.00730708, 0.00928749,\n",
       "       0.00822123, 0.00777472, 0.01161396, 0.01119286, 0.00951263,\n",
       "       0.05350248, 0.01208506, 0.01192766, 0.00374515, 0.02433887,\n",
       "       0.04421943, 0.00613249, 0.00998779, 0.01452366, 0.00558633,\n",
       "       0.01829629, 0.01768702, 0.0070125 , 0.01810435, 0.00669442,\n",
       "       0.01538172, 0.02721032, 0.00336077, 0.01794674, 0.01497866,\n",
       "       0.01836884, 0.02201082, 0.01782413, 0.01126412, 0.00847351,\n",
       "       0.01897296, 0.0146056 , 0.1073784 , 0.00849743, 0.00920445,\n",
       "       0.04795431, 0.00698184, 0.02091756, 0.02663721, 0.00628884,\n",
       "       0.00484624, 0.02362101, 0.01533874, 0.00431576, 0.0088938 ,\n",
       "       0.02426531, 0.01561415, 0.01766398, 0.00835529, 0.00323014,\n",
       "       0.00702773, 0.00872154, 0.02032516, 0.01891388, 0.02075193,\n",
       "       0.01129863, 0.01834767, 0.00403421, 0.01169943, 0.01405742,\n",
       "       0.01480224, 0.01166275, 0.01384159, 0.02021246, 0.02125675,\n",
       "       0.02654446, 0.01084861, 0.01760483, 0.03028606, 0.03344911,\n",
       "       0.01450698, 0.00636991, 0.01878893, 0.01821336, 0.01160902,\n",
       "       0.01089721, 0.01108262, 0.03188058, 0.02203452, 0.00391922,\n",
       "       0.02157117, 0.01004851, 0.01628834, 0.0077311 , 0.00695603,\n",
       "       0.00704156, 0.0144656 , 0.00960005, 0.01693717, 0.00914059,\n",
       "       0.02207848, 0.01794133, 0.00255107, 0.02914743, 0.01621168,\n",
       "       0.00961114, 0.0065217 , 0.01347847, 0.00477308, 0.01607941,\n",
       "       0.00977889, 0.01653327, 0.02386289, 0.00994575, 0.01282732,\n",
       "       0.01752374, 0.00251238, 0.00934288, 0.01983825, 0.01233506,\n",
       "       0.01714794, 0.03071446, 0.01863486, 0.00792868, 0.00485807,\n",
       "       0.00918123, 0.00484409, 0.01649502, 0.00903434, 0.02541845,\n",
       "       0.00897701, 0.0030845 , 0.02134072, 0.02239217, 0.01529825,\n",
       "       0.00304354, 0.01156974, 0.01505728, 0.00680135, 0.01069797,\n",
       "       0.00456159, 0.02851638, 0.00794401, 0.02450576, 0.00370951,\n",
       "       0.01451633, 0.01644989, 0.0195644 , 0.00974788, 0.02107512,\n",
       "       0.01421366, 0.00679522, 0.04684348, 0.01443713, 0.01516828,\n",
       "       0.01476479, 0.00517368, 0.01796289, 0.02557142, 0.0128498 ,\n",
       "       0.00397941, 0.0203628 , 0.00768537, 0.05394575, 0.01027572,\n",
       "       0.01911039, 0.007586  , 0.01074825, 0.01002641, 0.00537302,\n",
       "       0.02411197, 0.01458284, 0.01604303, 0.00914953, 0.01066947,\n",
       "       0.0116867 , 0.00691787, 0.01749476, 0.06008207, 0.00930518,\n",
       "       0.01680433, 0.0198005 , 0.01396154, 0.02307511, 0.0071261 ,\n",
       "       0.00727843, 0.00426945, 0.00641004, 0.00644871, 0.02079808,\n",
       "       0.02125563, 0.01680505, 0.00483329, 0.01023986, 0.01877558,\n",
       "       0.00615569, 0.01007539, 0.00571086, 0.00815023, 0.01241839,\n",
       "       0.02568837, 0.01854459, 0.01867373, 0.0112389 , 0.04456294,\n",
       "       0.01153004, 0.02398444, 0.00944407, 0.03599335, 0.00780876,\n",
       "       0.0162371 , 0.01058415, 0.01565622, 0.02398449, 0.00900542,\n",
       "       0.00726639, 0.04726564, 0.01131851, 0.00305459, 0.02377708,\n",
       "       0.01469515, 0.00683888, 0.00482906, 0.00760971, 0.00843668,\n",
       "       0.02957118, 0.01553145, 0.01972453, 0.01672494, 0.01041873,\n",
       "       0.01994392, 0.01380871, 0.00911139, 0.01185146, 0.00891131,\n",
       "       0.01977633, 0.00889041, 0.00585911, 0.01147997, 0.02916265,\n",
       "       0.0193258 , 0.01214557, 0.00884017, 0.00716437, 0.01258534,\n",
       "       0.00697297, 0.00839389, 0.02323695, 0.02169954, 0.00330295,\n",
       "       0.01815107], dtype=float32)>"
      ]
     },
     "execution_count": 45,
     "metadata": {},
     "output_type": "execute_result"
    }
   ],
   "source": [
    "loss(predictions[0],predictions[1])"
   ]
  },
  {
   "cell_type": "code",
   "execution_count": 46,
   "metadata": {},
   "outputs": [
    {
     "data": {
      "text/plain": [
       "array([0.46296296, 0.        , 0.        , 0.17391305, 0.22666667,\n",
       "       0.11764706, 0.        , 0.25641027, 0.        , 0.        ,\n",
       "       0.        , 0.15819208, 0.6146789 , 0.22413793, 0.        ,\n",
       "       0.        , 0.54761904, 0.5504587 , 0.5229358 , 0.01858736,\n",
       "       0.5       ], dtype=float32)"
      ]
     },
     "execution_count": 46,
     "metadata": {},
     "output_type": "execute_result"
    }
   ],
   "source": [
    "original[0]"
   ]
  },
  {
   "cell_type": "code",
   "execution_count": 47,
   "metadata": {},
   "outputs": [
    {
     "data": {
      "text/plain": [
       "array([0.5493144 , 0.10448322, 0.0215407 , 0.15353984, 0.52574575,\n",
       "       0.10519052, 0.16590884, 0.18509427, 0.09292799, 0.01884124,\n",
       "       0.03267112, 0.25151324, 0.5873399 , 0.31799772, 0.21157381,\n",
       "       0.03207272, 0.62124264, 0.6162955 , 0.6006619 , 0.05946442,\n",
       "       0.6392676 ], dtype=float32)"
      ]
     },
     "execution_count": 47,
     "metadata": {},
     "output_type": "execute_result"
    }
   ],
   "source": [
    "model_predictions[0]"
   ]
  },
  {
   "cell_type": "code",
   "execution_count": null,
   "metadata": {},
   "outputs": [],
   "source": []
  }
 ],
 "metadata": {
  "kernelspec": {
   "display_name": "Python 3",
   "language": "python",
   "name": "python3"
  },
  "language_info": {
   "codemirror_mode": {
    "name": "ipython",
    "version": 3
   },
   "file_extension": ".py",
   "mimetype": "text/x-python",
   "name": "python",
   "nbconvert_exporter": "python",
   "pygments_lexer": "ipython3",
   "version": "3.7.4"
  }
 },
 "nbformat": 4,
 "nbformat_minor": 4
}
