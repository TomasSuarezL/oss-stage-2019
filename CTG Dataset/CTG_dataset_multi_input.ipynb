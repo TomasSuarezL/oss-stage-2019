{
 "cells": [
  {
   "cell_type": "markdown",
   "metadata": {},
   "source": [
    "### Multi-input Autoencoder model on CTG dataset\n",
    "- Load Data\n",
    "- Preprocess Data\n",
    "- Perform PCA on Data\n",
    "- Divide Dataset in 2 smaller datasets of fewer features\n",
    "- Define Multi-input Autoencoder Model\n",
    "- Train Model\n",
    "- Generate predictions for Train and Test Sets\n",
    "- Perform PCA on Encoded Data\n",
    "- Evaluate generated data on classification models"
   ]
  },
  {
   "cell_type": "code",
   "execution_count": 2,
   "metadata": {},
   "outputs": [],
   "source": [
    "import numpy as np\n",
    "import pandas as pd \n",
    "import seaborn as sns\n",
    "import matplotlib.pyplot as plt\n",
    "import tensorflow as tf\n",
    "from tensorflow import keras\n",
    "from tensorflow.keras import layers\n",
    "\n",
    "# Load Data\n",
    "ctg_data = pd.read_csv('../CTGRawData.csv', sep=';')"
   ]
  },
  {
   "cell_type": "code",
   "execution_count": 3,
   "metadata": {},
   "outputs": [],
   "source": [
    "# Preprocess Data\n",
    "# Separate Features from labels (last column)\n",
    "y = ctg_data['NSP']\n",
    "X = ctg_data.drop('NSP',axis=1).iloc[:,:21]\n",
    "from sklearn.model_selection import train_test_split\n",
    "# Split into train and test sets\n",
    "X_train, X_test, y_train, y_test = train_test_split(X,y,test_size=0.2)"
   ]
  },
  {
   "cell_type": "code",
   "execution_count": 4,
   "metadata": {},
   "outputs": [],
   "source": [
    "# Normalization of data sets\n",
    "# Data Scaling MinMax\n",
    "from sklearn.preprocessing import MinMaxScaler\n",
    "scaler = MinMaxScaler()\n",
    "X_train_norm = X_train\n",
    "X_test_norm = X_test\n",
    "\n",
    "X_train_norm = pd.DataFrame(scaler.fit_transform(X_train_norm))\n",
    "X_test_norm = pd.DataFrame(scaler.transform(X_test_norm))"
   ]
  },
  {
   "cell_type": "code",
   "execution_count": 16,
   "metadata": {},
   "outputs": [],
   "source": [
    "# Divide the dataset into 2 subsets with fewer features, approximately in half.\n",
    "X_train_first = X_train_norm.iloc[:,:11]\n",
    "X_train_second = X_train_norm.iloc[:,11:]\n",
    "X_test_first = X_test_norm.iloc[:,:11]\n",
    "X_test_second = X_test_norm.iloc[:,11:]"
   ]
  },
  {
   "cell_type": "markdown",
   "metadata": {},
   "source": [
    "_____________________________\n",
    "### PCA"
   ]
  },
  {
   "cell_type": "code",
   "execution_count": 20,
   "metadata": {},
   "outputs": [
    {
     "data": {
      "image/png": "[encoded data removed]",
      "text/plain": [
       "<Figure size 864x288 with 2 Axes>"
      ]
     },
     "metadata": {
      "needs_background": "light"
     },
     "output_type": "display_data"
    },
    {
     "name": "stdout",
     "output_type": "stream",
     "text": [
      "Simple PCA explained variance ratio: 0.9478109686950158\n",
      "Simple PCA explained variance ratio: 0.9982391389477946\n"
     ]
    }
   ],
   "source": [
    "# Perform PCA to find the most significant features\n",
    "from sklearn.decomposition import PCA\n",
    "# select the number of components\n",
    "pca_first = PCA(n_components = 8)\n",
    "X_train_pca_first = pca_first.fit_transform(X_train_first)\n",
    "X_test_pca_fist = pca_first.transform(X_test_first)\n",
    "\n",
    "pca_second = PCA(n_components = 8)\n",
    "X_train_pca_second = pca_second.fit_transform(X_train_second)\n",
    "X_test_pca_second = pca_second.transform(X_test_second)\n",
    "\n",
    "#x_pca_train_labeled = np.c_[X_train_pca_first , y_train]\n",
    "#x_pca_test_labeled = np.c_[X_test_pca , y_test]\n",
    "\n",
    "plt.figure(figsize=(12, 4))\n",
    "ax1 = plt.subplot(1,2,1)\n",
    "sns.barplot(np.arange(np.shape(pca_first.explained_variance_ratio_)[0]),pca_first.explained_variance_ratio_)\n",
    "plt.xlabel(\"Eigen values\")\n",
    "plt.ylabel(\"Explained variance\")\n",
    "\n",
    "ax1 = plt.subplot(1,2,2)\n",
    "sns.barplot(np.arange(np.shape(pca_second.explained_variance_ratio_)[0]),pca_second.explained_variance_ratio_)\n",
    "plt.xlabel(\"Eigen values\")\n",
    "plt.ylabel(\"Explained variance\")\n",
    "plt.show()\n",
    "\n",
    "print(f\"Simple PCA explained variance ratio: {pca_first.explained_variance_ratio_.sum()}\")\n",
    "print(f\"Simple PCA explained variance ratio: {pca_second.explained_variance_ratio_.sum()}\")\n"
   ]
  },
  {
   "cell_type": "code",
   "execution_count": null,
   "metadata": {},
   "outputs": [],
   "source": [
    "sns.set_style(\"white\")\n",
    "sns.set_context(\"talk\")\n",
    "sns.set_style(\"ticks\")\n",
    "ax1 = plt.subplot(1,2,1)\n",
    "sns.scatterplot(x=simple_encoded_pca_train_labeled[:,0], \n",
    "                y=simple_encoded_pca_train_labeled[:,1], \n",
    "                alpha = 0.8, \n",
    "                s= 170, legend='full', \n",
    "                hue=encoded_pca_train_labeled[:,-1],\n",
    "                palette=sns.color_palette(\"OrRd\")[:2:-1])\n",
    "sns.scatterplot(x=simple_encoded_pca_test_labeled[:,0],\n",
    "                y=simple_encoded_pca_test_labeled[:,1],\n",
    "                alpha = 0.6, \n",
    "                s= 370, \n",
    "                legend='full',\n",
    "                hue=simple_encoded_pca_test_labeled[:,-1], \n",
    "                palette=sns.color_palette(\"Blues_d\")[:2:-1])\n",
    "ax1.legend(bbox_to_anchor=(1, 1), loc=1, borderaxespad=0.,framealpha=1, frameon=True, fontsize=\"x-small\")\n",
    "ax1.set_xlabel(\"PC 1\")\n",
    "ax1.set_ylabel(\"PC 2\")\n",
    "ax1.figure.set_size_inches( (16,6) )\n",
    "ax1.set_title(\"PCA of training data (Simple AE)\")\n",
    "\n",
    "ax1 = plt.subplot(1,2,2)\n",
    "sns.scatterplot(x=complex_encoded_pca_train_labeled[:,0], \n",
    "                y=complex_encoded_pca_train_labeled[:,1], \n",
    "                alpha = 0.8, \n",
    "                s= 170, legend='full', \n",
    "                hue=encoded_pca_train_labeled[:,-1],\n",
    "                palette=sns.color_palette(\"OrRd\")[:2:-1])\n",
    "sns.scatterplot(x=complex_encoded_pca_test_labeled[:,0],\n",
    "                y=complex_encoded_pca_test_labeled[:,1],\n",
    "                alpha = 0.6, \n",
    "                s= 370, \n",
    "                legend='full',\n",
    "                hue=complex_encoded_pca_test_labeled[:,-1], \n",
    "                palette=sns.color_palette(\"Blues_d\")[:2:-1])\n",
    "ax1.legend(bbox_to_anchor=(1, 1), loc=1, borderaxespad=0.,framealpha=1, frameon=True, fontsize=\"x-small\")\n",
    "ax1.set_xlabel(\"PC 1\")\n",
    "ax1.set_ylabel(\"PC 2\")\n",
    "ax1.figure.set_size_inches( (16,6) )\n",
    "ax1.set_title(\"PCA of training data (Complex AE)\")\n",
    "\n",
    "plt.yticks(rotation=45) \n",
    "plt.show()"
   ]
  }
 ],
 "metadata": {
  "kernelspec": {
   "display_name": "Python 3",
   "language": "python",
   "name": "python3"
  },
  "language_info": {
   "codemirror_mode": {
    "name": "ipython",
    "version": 3
   },
   "file_extension": ".py",
   "mimetype": "text/x-python",
   "name": "python",
   "nbconvert_exporter": "python",
   "pygments_lexer": "ipython3",
   "version": "3.7.4"
  }
 },
 "nbformat": 4,
 "nbformat_minor": 4
}
