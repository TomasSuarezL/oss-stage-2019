{
 "cells": [
  {
   "cell_type": "markdown",
   "metadata": {},
   "source": [
    "#### Multi-input Denoising Autoencoder vs DAE\n",
    "- Load Data\n",
    "- Normalize\n",
    "- Add Noise (Swap)\n",
    "- Split into datasets\n",
    "- Define Multi-input AE model\n",
    "- Train Multi DAE on split noisy data, and DAE on concatnoisy data\n",
    "- Define classifier and clustering evaluation models\n",
    "- Evaluate latent space and compare"
   ]
  }
 ],
 "metadata": {
  "kernelspec": {
   "display_name": "Python 3",
   "language": "python",
   "name": "python3"
  },
  "language_info": {
   "codemirror_mode": {
    "name": "ipython",
    "version": 3
   },
   "file_extension": ".py",
   "mimetype": "text/x-python",
   "name": "python",
   "nbconvert_exporter": "python",
   "pygments_lexer": "ipython3",
   "version": "3.7.5"
  }
 },
 "nbformat": 4,
 "nbformat_minor": 4
}
