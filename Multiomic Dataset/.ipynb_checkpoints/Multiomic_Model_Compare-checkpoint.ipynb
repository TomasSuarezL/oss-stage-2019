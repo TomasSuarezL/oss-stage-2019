{
 "cells": [
  {
   "cell_type": "code",
   "execution_count": 2,
   "metadata": {},
   "outputs": [
    {
     "name": "stdout",
     "output_type": "stream",
     "text": [
      "swapping: 20 rows.\n"
     ]
    }
   ],
   "source": [
    "import Models\n",
    "import numpy as np\n",
    "import random as rn\n",
    "import pandas as pd \n",
    "import seaborn as sns\n",
    "import matplotlib.pyplot as plt\n",
    "import tensorflow as tf\n",
    "from tensorflow import keras\n",
    "from tensorflow.keras import layers\n",
    "from sklearn.model_selection import train_test_split\n",
    "\n",
    "rn.seed(1)\n",
    "np.random.seed(1)\n",
    "tf.random.set_seed(1)\n",
    "tf.config.threading.set_inter_op_parallelism_threads(1)\n",
    "tf.config.threading.set_intra_op_parallelism_threads(1)\n",
    "\n",
    "# Load Data\n",
    "X_brca_mRNA_data = pd.read_csv('./BRCA_mRNA.txt', sep=',', index_col=0) # Dataset has Donor ID as first column\n",
    "X_brca_CNA_data = pd.read_csv('./BRCA_CNA.txt', sep=',' ,index_col=0) # Dataset has Donor ID as first column\n",
    "y_brca_data = pd.read_csv('./BRCA_Clinical.txt', sep=',', index_col=0, names=[\"Label\"]) # Dataset has Donor ID on first column and Label on second column.\n",
    "\n",
    "X_brca_mRNA_filtered = X_brca_mRNA_data.drop([\"TCGA-AO-A12C-01\",\"TCGA-AR-A1AT-01\",\"TCGA-BH-A18V-06\"], axis=1)\n",
    "X_brca_CNA_filtered = X_brca_CNA_data.drop([\"TCGA-AR-A0U1-01\"], axis=1)\n",
    "y_brca_filtered = y_brca_data.drop([\"TCGA-AO-A12C-01\",\"TCGA-AR-A1AT-01\",\"TCGA-BH-A18V-06\"], axis=0)\n",
    "\n",
    "\n",
    "X_train_first_norm, X_train_second_norm, X_swapped_first_norm, X_swapped_second_norm, X_test_first_norm, X_test_second_norm, X_train_concat, X_swapped_concat, X_test_concat, y_train, y_test, y_train_oh, y_test_oh \\\n",
    "    = Models.prepare_datasets(X_brca_mRNA_filtered.T,X_brca_CNA_filtered.T, y_brca_filtered, test_size=0.2, swap_noise=0.15)\n",
    "\n",
    "# CONCAT TRAIN AND TEST DATASET TO TRANSFORM THE ENTIRE DATA (FOR KPCA)\n",
    "X_first = pd.concat([X_train_first_norm, X_test_first_norm], axis=0)\n",
    "X_second = pd.concat([X_train_second_norm, X_test_second_norm], axis=0)\n",
    "y = pd.concat([y_train, y_test], axis=0)\n"
   ]
  },
  {
   "cell_type": "code",
   "execution_count": null,
   "metadata": {},
   "outputs": [],
   "source": [
    "import importlib\n",
    "importlib.reload(Models)"
   ]
  },
  {
   "cell_type": "code",
   "execution_count": 6,
   "metadata": {},
   "outputs": [
    {
     "name": "stdout",
     "output_type": "stream",
     "text": [
      "Compression: 105.88\n",
      "WARNING:tensorflow:Falling back from v2 loop because of error: Failed to find data adapter that can handle input: (<class 'list'> containing values of types {\"<class 'pandas.core.frame.DataFrame'>\"}), <class 'NoneType'>\n",
      "\n",
      "Epoch 00051: ReduceLROnPlateau reducing learning rate to 0.00010000000474974513.\n",
      "\n",
      "Epoch 00068: ReduceLROnPlateau reducing learning rate to 1.0000000474974514e-05.\n",
      "\n",
      "Epoch 00082: ReduceLROnPlateau reducing learning rate to 1.0000000656873453e-06.\n",
      "\n",
      "Epoch 00087: ReduceLROnPlateau reducing learning rate to 1.0000001111620805e-07.\n",
      "\n",
      "Epoch 00093: ReduceLROnPlateau reducing learning rate to 1.000000082740371e-08.\n",
      "\n",
      "Epoch 00098: ReduceLROnPlateau reducing learning rate to 1.000000082740371e-09.\n",
      "Epoch 00098: early stopping\n"
     ]
    },
    {
     "data": {
      "image/png": "[encoded data removed]",
      "text/plain": [
       "<Figure size 432x288 with 1 Axes>"
      ]
     },
     "metadata": {
      "needs_background": "light"
     },
     "output_type": "display_data"
    },
    {
     "name": "stdout",
     "output_type": "stream",
     "text": [
      "0.025982231675432278\n"
     ]
    },
    {
     "ename": "TypeError",
     "evalue": "build_and_train_autoencoder() missing 1 required positional argument: 'validation_data'",
     "output_type": "error",
     "traceback": [
      "\u001b[1;31m---------------------------------------------------------------------------\u001b[0m",
      "\u001b[1;31mTypeError\u001b[0m                                 Traceback (most recent call last)",
      "\u001b[1;32m<ipython-input-6-6d16df125b18>\u001b[0m in \u001b[0;36m<module>\u001b[1;34m\u001b[0m\n\u001b[0;32m     17\u001b[0m                                                               \u001b[0mregularizer\u001b[0m\u001b[1;33m=\u001b[0m\u001b[0mtf\u001b[0m\u001b[1;33m.\u001b[0m\u001b[0mkeras\u001b[0m\u001b[1;33m.\u001b[0m\u001b[0mregularizers\u001b[0m\u001b[1;33m.\u001b[0m\u001b[0ml1_l2\u001b[0m\u001b[1;33m(\u001b[0m\u001b[1;36m0.000005\u001b[0m\u001b[1;33m,\u001b[0m\u001b[1;36m0.000005\u001b[0m\u001b[1;33m)\u001b[0m\u001b[1;33m,\u001b[0m\u001b[1;33m\u001b[0m\u001b[1;33m\u001b[0m\u001b[0m\n\u001b[0;32m     18\u001b[0m                                                               \u001b[0mdropout\u001b[0m\u001b[1;33m=\u001b[0m\u001b[1;36m0.2\u001b[0m\u001b[1;33m,\u001b[0m\u001b[1;33m\u001b[0m\u001b[1;33m\u001b[0m\u001b[0m\n\u001b[1;32m---> 19\u001b[1;33m                                                               epochs=200)\n\u001b[0m\u001b[0;32m     20\u001b[0m \u001b[1;31m## Encode datasets\u001b[0m\u001b[1;33m\u001b[0m\u001b[1;33m\u001b[0m\u001b[1;33m\u001b[0m\u001b[0m\n\u001b[0;32m     21\u001b[0m \u001b[0mX_latent_ae\u001b[0m \u001b[1;33m=\u001b[0m \u001b[0mModels\u001b[0m\u001b[1;33m.\u001b[0m\u001b[0mencode_dataset\u001b[0m\u001b[1;33m(\u001b[0m\u001b[0mX_train_concat\u001b[0m\u001b[1;33m,\u001b[0m \u001b[0mencoder\u001b[0m\u001b[1;33m)\u001b[0m\u001b[1;33m\u001b[0m\u001b[1;33m\u001b[0m\u001b[0m\n",
      "\u001b[1;31mTypeError\u001b[0m: build_and_train_autoencoder() missing 1 required positional argument: 'validation_data'"
     ]
    }
   ],
   "source": [
    "## Build and Train Multi Autoencoder\n",
    "autoencoder, encoder, decoder, loss = Models.build_and_train_multi_autoencoder([X_train_first_norm,X_train_second_norm],\n",
    "                                                              [X_train_first_norm,X_train_second_norm],\n",
    "                                                              encoding_dim=100, \n",
    "                                                              regularizer=tf.keras.regularizers.l1_l2(0.00005,0.000003),\n",
    "                                                              dropout=0.25,\n",
    "                                                              epochs=200,\n",
    "                                                              mu=0.1)\n",
    "## Encode datasets\n",
    "X_latent_multi_ae = Models.encode_dataset([X_train_first_norm,X_train_second_norm], encoder)\n",
    "X_latent_test_multi_ae = Models.encode_dataset([X_test_first_norm,X_test_second_norm], encoder)\n",
    "\n",
    "## Build and Train Autoencoder\n",
    "autoencoder, encoder, decoder, loss = Models.build_and_train_autoencoder(X_train_concat,\n",
    "                                                              X_train_concat,\n",
    "                                                              encoding_dim=100, \n",
    "                                                              regularizer=tf.keras.regularizers.l1_l2(0.000005,0.000005),\n",
    "                                                              dropout=0.2,\n",
    "                                                              epochs=200,\n",
    "                                                              validation_data=None)\n",
    "## Encode datasets\n",
    "X_latent_ae = Models.encode_dataset(X_train_concat, encoder)\n",
    "X_latent_test_ae = Models.encode_dataset(X_test_concat, encoder)\n",
    "\n",
    "## Build and Train Multi Denoising Autoencoder\n",
    "autoencoder, encoder, decoder, loss = Models.build_and_train_multi_autoencoder([X_swapped_first_norm,X_swapped_second_norm],\n",
    "                                                              [X_train_first_norm,X_train_second_norm],\n",
    "                                                              encoding_dim=100, \n",
    "                                                              regularizer=tf.keras.regularizers.l1_l2(0.000005,0.000005),\n",
    "                                                              dropout=0,\n",
    "                                                              epochs=200,\n",
    "                                                              mu=0.5)\n",
    "## Encode datasets\n",
    "X_latent_multi_dae = Models.encode_dataset([X_train_first_norm,X_train_second_norm], encoder)\n",
    "X_latent_test_multi_dae = Models.encode_dataset([X_test_first_norm,X_test_second_norm], encoder)\n",
    "\n",
    "## Build and Train Denoising Autoencoder\n",
    "autoencoder, encoder, decoder, loss = Models.build_and_train_autoencoder(X_swapped_concat,\n",
    "                                                              X_train_concat,\n",
    "                                                              encoding_dim=100, \n",
    "                                                              regularizer=tf.keras.regularizers.l1_l2(0.000005,0.000005),\n",
    "                                                              dropout=0.2,\n",
    "                                                              epochs=200)\n",
    "## Encode datasets\n",
    "X_latent_dae = Models.encode_dataset(X_train_concat, encoder)\n",
    "X_latent_test_dae = Models.encode_dataset(X_test_concat, encoder)\n",
    "\n",
    "# Perform rbf kernel to divided datasets\n",
    "X_kpca, _ = Models.perform_multi_KPCA(X_first, X_second, y, gamma=0.008, mu=0.8)\n",
    "\n",
    "# Split into train and test sets\n",
    "X_latent_kpca, X_latent_test_kpca, y_train_kpca, y_test_kpca = train_test_split(X_kpca, y, test_size=0.2, random_state=1) "
   ]
  },
  {
   "cell_type": "code",
   "execution_count": null,
   "metadata": {},
   "outputs": [],
   "source": [
    "### CLASSIFICATION ###\n",
    "# We use the reduced datasets to train a classifier and compare them.\n",
    "y_train = np.ravel(y_train)\n",
    "y_test = np.ravel(y_test)\n",
    "# Original Concatenated Dataset Classification \n",
    "original_classify = Models.classify_with_cv(X_train_concat, X_test_concat, y_train, y_test, model_type=\"Original\")\n",
    "# Multi-AE Classification\n",
    "multi_ae_classify = Models.classify_with_cv(X_latent_multi_ae, X_latent_test_multi_ae, y_train, y_test, model_type=\"Multi-AE\")\n",
    "# AE Classification\n",
    "ae_classify = Models.classify_with_cv(X_latent_ae, X_latent_test_ae, y_train, y_test, model_type=\"AE\")\n",
    "# Multi-DAE Classification\n",
    "multi_dae_classify = Models.classify_with_cv(X_latent_multi_dae, X_latent_test_multi_dae, y_train, y_test, model_type=\"Multi-DAE\")\n",
    "# DAE Classification\n",
    "dae_classify = Models.classify_with_cv(X_latent_dae, X_latent_test_dae, y_train, y_test, model_type=\"DAE\")\n",
    "# KPCA Classification\n",
    "kpca_classify = Models.classify_with_cv(X_latent_kpca, X_latent_test_kpca, y_train, y_test, model_type=\"KPCA\")"
   ]
  },
  {
   "cell_type": "code",
   "execution_count": null,
   "metadata": {},
   "outputs": [],
   "source": [
    "###### CLUSTERING ###\n",
    "original_clustering = Models.cluster(X_train_concat, y_train, model_type=\"Original\")\n",
    "# Multi-AE Clustering\n",
    "multi_ae_clustering = Models.cluster(X_latent_multi_ae, y_train, model_type=\"AE\")\n",
    "# AE Clustering\n",
    "ae_clustering = Models.cluster(X_latent_ae, y_train, model_type=\"AE\")\n",
    "# Multi-DAE Clustering\n",
    "multi_dae_clustering = Models.cluster(X_latent_multi_dae, y_train, model_type=\"AE\")\n",
    "# DAE Clustering\n",
    "dae_clustering = Models.cluster(X_latent_dae, y_train, model_type=\"AE\")\n",
    "# KPCA Clustering\n",
    "kpca_clustering = Models.cluster(X_latent_kpca, y_train, model_type=\"AE\")\n"
   ]
  },
  {
   "cell_type": "code",
   "execution_count": null,
   "metadata": {},
   "outputs": [],
   "source": [
    "results = [original_classify + original_clustering, multi_ae_classify + multi_ae_clustering, ae_classify + ae_clustering, multi_dae_classify + multi_dae_clustering, dae_classify + dae_clustering, kpca_classify + kpca_clustering]\n",
    "scores = pd.DataFrame(results, index=[\"Original\",\"Multi-AE\",\"AE\",\"Multi-DAE\",\"DAE\",\"KPCA\"],\n",
    "                      columns=[\"LR accuracy\",\"SVM accuracy\", \"RF accuracy\", \"LR ROC-AUC\", \"SVM ROC-AUC\", \"RF ROC-AUC\",\"KMeans Silhouette\",\"Spectral Silhouette\",\"Hierarchical Silhouette\",\"KMeans MI\",\"Spectral MI\",\"Hierarchical MI\"])    \n",
    "scores"
   ]
  },
  {
   "cell_type": "code",
   "execution_count": null,
   "metadata": {},
   "outputs": [],
   "source": [
    "data_acc = scores[[\"LR accuracy\",\"SVM accuracy\",\"RF accuracy\"]]\n",
    "sns.set()\n",
    "\n",
    "ax = sns.lineplot(data=data_acc)\n",
    "plt.legend(fontsize='small')\n",
    "ax.set_xlabel(f\"model\")\n",
    "ax.set_ylabel(f\"accuracy\")\n",
    "ax.figure.set_size_inches(10 , 5)\n",
    "ax.set_title(f\"model vs accuracy\")\n",
    "plt.show()\n"
   ]
  },
  {
   "cell_type": "code",
   "execution_count": null,
   "metadata": {},
   "outputs": [],
   "source": []
  }
 ],
 "metadata": {
  "kernelspec": {
   "display_name": "Python 3",
   "language": "python",
   "name": "python3"
  },
  "language_info": {
   "codemirror_mode": {
    "name": "ipython",
    "version": 3
   },
   "file_extension": ".py",
   "mimetype": "text/x-python",
   "name": "python",
   "nbconvert_exporter": "python",
   "pygments_lexer": "ipython3",
   "version": "3.7.6"
  }
 },
 "nbformat": 4,
 "nbformat_minor": 4
}
